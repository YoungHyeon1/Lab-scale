{
 "cells": [
  {
   "cell_type": "code",
   "execution_count": 1,
   "metadata": {},
   "outputs": [],
   "source": [
    "import pandas as pd\n",
    "from sklearn.preprocessing import StandardScaler\n",
    "from pytorch_tabular import TabularModel\n",
    "from pytorch_tabular.models import GANDALFConfig\n",
    "from pytorch_tabular.config import (\n",
    "    DataConfig,\n",
    "    OptimizerConfig,\n",
    "    TrainerConfig,\n",
    ")\n",
    "from sklearn.preprocessing import OrdinalEncoder\n",
    "from sklearn.model_selection import train_test_split\n"
   ]
  },
  {
   "cell_type": "code",
   "execution_count": 2,
   "metadata": {},
   "outputs": [
    {
     "data": {
      "text/html": [
       "<div>\n",
       "<style scoped>\n",
       "    .dataframe tbody tr th:only-of-type {\n",
       "        vertical-align: middle;\n",
       "    }\n",
       "\n",
       "    .dataframe tbody tr th {\n",
       "        vertical-align: top;\n",
       "    }\n",
       "\n",
       "    .dataframe thead th {\n",
       "        text-align: right;\n",
       "    }\n",
       "</style>\n",
       "<table border=\"1\" class=\"dataframe\">\n",
       "  <thead>\n",
       "    <tr style=\"text-align: right;\">\n",
       "      <th></th>\n",
       "      <th>championId</th>\n",
       "      <th>tier</th>\n",
       "      <th>position</th>\n",
       "      <th>teamId</th>\n",
       "      <th>win</th>\n",
       "      <th>kills</th>\n",
       "      <th>deaths</th>\n",
       "      <th>assists</th>\n",
       "      <th>totalDamageDealtToChampions</th>\n",
       "      <th>visionScore</th>\n",
       "      <th>...</th>\n",
       "      <th>perk3.9</th>\n",
       "      <th>perk4.9</th>\n",
       "      <th>primaryStyle.9</th>\n",
       "      <th>perk5.9</th>\n",
       "      <th>perk6.9</th>\n",
       "      <th>subStyle.9</th>\n",
       "      <th>gameMode.9</th>\n",
       "      <th>gameVersion.9</th>\n",
       "      <th>gameDuration.9</th>\n",
       "      <th>gameId.9</th>\n",
       "    </tr>\n",
       "  </thead>\n",
       "  <tbody>\n",
       "    <tr>\n",
       "      <th>0</th>\n",
       "      <td>35</td>\n",
       "      <td>SILVER</td>\n",
       "      <td>UTILITY</td>\n",
       "      <td>100</td>\n",
       "      <td>True</td>\n",
       "      <td>8</td>\n",
       "      <td>4</td>\n",
       "      <td>16</td>\n",
       "      <td>21868</td>\n",
       "      <td>57</td>\n",
       "      <td>...</td>\n",
       "      <td>8210</td>\n",
       "      <td>8237</td>\n",
       "      <td>8200</td>\n",
       "      <td>8347</td>\n",
       "      <td>8321</td>\n",
       "      <td>8300</td>\n",
       "      <td>CLASSIC</td>\n",
       "      <td>13.6.499.7758</td>\n",
       "      <td>1813</td>\n",
       "      <td>6432686803</td>\n",
       "    </tr>\n",
       "    <tr>\n",
       "      <th>1</th>\n",
       "      <td>21</td>\n",
       "      <td>SILVER</td>\n",
       "      <td>UTILITY</td>\n",
       "      <td>100</td>\n",
       "      <td>True</td>\n",
       "      <td>3</td>\n",
       "      <td>8</td>\n",
       "      <td>20</td>\n",
       "      <td>21252</td>\n",
       "      <td>94</td>\n",
       "      <td>...</td>\n",
       "      <td>8321</td>\n",
       "      <td>8347</td>\n",
       "      <td>8300</td>\n",
       "      <td>8138</td>\n",
       "      <td>8135</td>\n",
       "      <td>8100</td>\n",
       "      <td>CLASSIC</td>\n",
       "      <td>13.6.499.7758</td>\n",
       "      <td>1988</td>\n",
       "      <td>6432688742</td>\n",
       "    </tr>\n",
       "    <tr>\n",
       "      <th>2</th>\n",
       "      <td>64</td>\n",
       "      <td>SILVER</td>\n",
       "      <td>JUNGLE</td>\n",
       "      <td>100</td>\n",
       "      <td>False</td>\n",
       "      <td>9</td>\n",
       "      <td>5</td>\n",
       "      <td>1</td>\n",
       "      <td>11452</td>\n",
       "      <td>23</td>\n",
       "      <td>...</td>\n",
       "      <td>8210</td>\n",
       "      <td>8237</td>\n",
       "      <td>8200</td>\n",
       "      <td>8473</td>\n",
       "      <td>8453</td>\n",
       "      <td>8400</td>\n",
       "      <td>CLASSIC</td>\n",
       "      <td>13.6.499.7758</td>\n",
       "      <td>1468</td>\n",
       "      <td>6432689755</td>\n",
       "    </tr>\n",
       "    <tr>\n",
       "      <th>3</th>\n",
       "      <td>67</td>\n",
       "      <td>GOLD</td>\n",
       "      <td>TOP</td>\n",
       "      <td>100</td>\n",
       "      <td>True</td>\n",
       "      <td>5</td>\n",
       "      <td>2</td>\n",
       "      <td>3</td>\n",
       "      <td>16028</td>\n",
       "      <td>22</td>\n",
       "      <td>...</td>\n",
       "      <td>8138</td>\n",
       "      <td>8106</td>\n",
       "      <td>8100</td>\n",
       "      <td>8446</td>\n",
       "      <td>8473</td>\n",
       "      <td>8400</td>\n",
       "      <td>CLASSIC</td>\n",
       "      <td>13.6.499.7758</td>\n",
       "      <td>1415</td>\n",
       "      <td>6432690956</td>\n",
       "    </tr>\n",
       "    <tr>\n",
       "      <th>4</th>\n",
       "      <td>106</td>\n",
       "      <td>SILVER</td>\n",
       "      <td>JUNGLE</td>\n",
       "      <td>100</td>\n",
       "      <td>True</td>\n",
       "      <td>9</td>\n",
       "      <td>4</td>\n",
       "      <td>19</td>\n",
       "      <td>18319</td>\n",
       "      <td>34</td>\n",
       "      <td>...</td>\n",
       "      <td>8210</td>\n",
       "      <td>8237</td>\n",
       "      <td>8200</td>\n",
       "      <td>8345</td>\n",
       "      <td>8347</td>\n",
       "      <td>8300</td>\n",
       "      <td>CLASSIC</td>\n",
       "      <td>13.6.499.7758</td>\n",
       "      <td>2157</td>\n",
       "      <td>6432690999</td>\n",
       "    </tr>\n",
       "  </tbody>\n",
       "</table>\n",
       "<p>5 rows × 600 columns</p>\n",
       "</div>"
      ],
      "text/plain": [
       "   championId    tier position  teamId    win  kills  deaths  assists  \\\n",
       "0          35  SILVER  UTILITY     100   True      8       4       16   \n",
       "1          21  SILVER  UTILITY     100   True      3       8       20   \n",
       "2          64  SILVER   JUNGLE     100  False      9       5        1   \n",
       "3          67    GOLD      TOP     100   True      5       2        3   \n",
       "4         106  SILVER   JUNGLE     100   True      9       4       19   \n",
       "\n",
       "   totalDamageDealtToChampions  visionScore  ...  perk3.9  perk4.9  \\\n",
       "0                        21868           57  ...     8210     8237   \n",
       "1                        21252           94  ...     8321     8347   \n",
       "2                        11452           23  ...     8210     8237   \n",
       "3                        16028           22  ...     8138     8106   \n",
       "4                        18319           34  ...     8210     8237   \n",
       "\n",
       "   primaryStyle.9  perk5.9  perk6.9  subStyle.9  gameMode.9  gameVersion.9  \\\n",
       "0            8200     8347     8321        8300     CLASSIC  13.6.499.7758   \n",
       "1            8300     8138     8135        8100     CLASSIC  13.6.499.7758   \n",
       "2            8200     8473     8453        8400     CLASSIC  13.6.499.7758   \n",
       "3            8100     8446     8473        8400     CLASSIC  13.6.499.7758   \n",
       "4            8200     8345     8347        8300     CLASSIC  13.6.499.7758   \n",
       "\n",
       "   gameDuration.9    gameId.9  \n",
       "0            1813  6432686803  \n",
       "1            1988  6432688742  \n",
       "2            1468  6432689755  \n",
       "3            1415  6432690956  \n",
       "4            2157  6432690999  \n",
       "\n",
       "[5 rows x 600 columns]"
      ]
     },
     "execution_count": 2,
     "metadata": {},
     "output_type": "execute_result"
    }
   ],
   "source": [
    "data = pd.read_csv(\"reshape_total_riot.csv\")\n",
    "df = pd.DataFrame(data)\n",
    "df.head()"
   ]
  },
  {
   "cell_type": "code",
   "execution_count": 3,
   "metadata": {},
   "outputs": [
    {
     "name": "stdout",
     "output_type": "stream",
     "text": [
      "        championId  tier  position  teamId     kills    deaths   assists  \\\n",
      "594831   -0.698368   4.0       2.0     0.0 -0.182268 -0.539462 -0.251538   \n",
      "446276   -0.482053   4.0       3.0     0.0  2.586362 -0.238031  0.112831   \n",
      "539922    3.106999   2.0       4.0     0.0  0.030703 -0.539462 -0.798090   \n",
      "73342    -0.504126   0.0       3.0     0.0 -0.395240 -0.238031  0.659383   \n",
      "68163    -0.746928   3.0       4.0     0.0  0.456646 -0.539462 -0.251538   \n",
      "\n",
      "        totalDamageDealtToChampions  visionScore  inhibitorKills  ...  \\\n",
      "594831                    -0.371710     0.427332         -0.3658  ...   \n",
      "446276                     1.619904    -0.728404         -0.3658  ...   \n",
      "539922                    -0.548631    -0.913322         -0.3658  ...   \n",
      "73342                      0.475364    -0.127421         -0.3658  ...   \n",
      "68163                      0.399051    -0.312339         -0.3658  ...   \n",
      "\n",
      "         perk4.9  primaryStyle.9   perk5.9   perk6.9  subStyle.9  gameMode.9  \\\n",
      "594831 -1.285516       -0.849433 -0.078181  0.114853    0.223899         0.0   \n",
      "446276  0.343835        0.593449 -1.099903 -0.969371   -0.586675         0.0   \n",
      "539922 -0.620624       -0.127992 -0.078181  0.436654    0.223899         0.0   \n",
      "73342   1.907428        2.036331  4.049990  3.907158   -0.991961         0.0   \n",
      "68163  -1.285516       -0.849433  0.133388 -0.088130    0.223899         0.0   \n",
      "\n",
      "        gameVersion.9  gameDuration.9  gameId.9  target  \n",
      "594831           45.0        0.214532  1.467017       0  \n",
      "446276           52.0       -0.188685  0.795778       1  \n",
      "539922           62.0       -0.689858  1.196433       1  \n",
      "73342             6.0        1.369509 -1.441735       0  \n",
      "68163             4.0       -0.439272 -1.488502       1  \n",
      "\n",
      "[5 rows x 591 columns]\n"
     ]
    }
   ],
   "source": [
    "# 범주형 및 수치형 데이터 처리\n",
    "df['target'] = df['win'].apply(lambda x: 1 if x == True else 0)\n",
    "df = df.drop(columns=['win', 'win.1', 'win.2', 'win.3', 'win.4', 'win.5', 'win.6', 'win.7', 'win.8', 'win.9'])\n",
    "\n",
    "categorical_columns = [ col for col in df.columns if df[col].dtype == \"object\"]\n",
    "numerical_columns = [ col for col in df.columns if df[col].dtype != \"object\"]\n",
    "\n",
    "numerical_columns.remove('target')\n",
    "\n",
    "encoder = OrdinalEncoder()\n",
    "df[categorical_columns] = encoder.fit_transform(df[categorical_columns])\n",
    "\n",
    "# 수치형 데이터 스케일링\n",
    "scaler = StandardScaler()\n",
    "df[numerical_columns] = scaler.fit_transform(df[numerical_columns])\n",
    "\n",
    "\n",
    "\n",
    "train_df, valid_df = train_test_split(df, test_size=0.2, random_state=42)\n",
    "print(train_df.head())\n",
    "# print(valid_df.head())\n"
   ]
  },
  {
   "cell_type": "code",
   "execution_count": 4,
   "metadata": {},
   "outputs": [
    {
     "data": {
      "text/plain": [
       "594831    0\n",
       "446276    1\n",
       "539922    1\n",
       "73342     0\n",
       "68163     1\n",
       "         ..\n",
       "110268    0\n",
       "259178    0\n",
       "365838    1\n",
       "131932    0\n",
       "121958    0\n",
       "Name: target, Length: 487322, dtype: int64"
      ]
     },
     "execution_count": 4,
     "metadata": {},
     "output_type": "execute_result"
    }
   ],
   "source": [
    "train_df['target']"
   ]
  },
  {
   "cell_type": "code",
   "execution_count": 5,
   "metadata": {},
   "outputs": [
    {
     "data": {
      "text/html": [
       "<pre style=\"white-space:pre;overflow-x:auto;line-height:normal;font-family:Menlo,'DejaVu Sans Mono',consolas,'Courier New',monospace\"><span style=\"color: #008080; text-decoration-color: #008080; font-weight: bold\">2024</span>-<span style=\"color: #008080; text-decoration-color: #008080; font-weight: bold\">05</span>-<span style=\"color: #008080; text-decoration-color: #008080; font-weight: bold\">27</span> <span style=\"color: #00ff00; text-decoration-color: #00ff00; font-weight: bold\">15:34:38</span>,<span style=\"color: #008080; text-decoration-color: #008080; font-weight: bold\">697</span> - <span style=\"font-weight: bold\">{</span>pytorch_tabular.tabular_model:<span style=\"color: #008080; text-decoration-color: #008080; font-weight: bold\">140</span><span style=\"font-weight: bold\">}</span> - INFO - Experiment Tracking is turned off           \n",
       "</pre>\n"
      ],
      "text/plain": [
       "\u001b[1;36m2024\u001b[0m-\u001b[1;36m05\u001b[0m-\u001b[1;36m27\u001b[0m \u001b[1;92m15:34:38\u001b[0m,\u001b[1;36m697\u001b[0m - \u001b[1m{\u001b[0mpytorch_tabular.tabular_model:\u001b[1;36m140\u001b[0m\u001b[1m}\u001b[0m - INFO - Experiment Tracking is turned off           \n"
      ]
     },
     "metadata": {},
     "output_type": "display_data"
    }
   ],
   "source": [
    "# 데이터 설정\n",
    "data_config = DataConfig(\n",
    "    target=['target'],             # 타겟 변수\n",
    "    continuous_cols=numerical_columns,    # 수치형 변수\n",
    "    categorical_cols=categorical_columns  # 범주형 변수\n",
    ")\n",
    "\n",
    "# 모델 설정\n",
    "model_config = GANDALFConfig(\n",
    "    task=\"classification\",\n",
    "    gflu_stages=6,\n",
    "    gflu_feature_init_sparsity=0.3,\n",
    "    gflu_dropout=0.0,\n",
    "    learning_rate=1e-3,\n",
    ")\n",
    "\n",
    "# 학습 설정\n",
    "trainer_config = TrainerConfig(\n",
    "    auto_lr_find=True,  # Learning rate 자동 탐색\n",
    "    batch_size=128,\n",
    "    max_epochs=100,\n",
    "    min_epochs=5,\n",
    ")\n",
    "\n",
    "# 모델 초기화 및 학습\n",
    "tabular_model = TabularModel(\n",
    "    data_config=data_config,\n",
    "    model_config=model_config,\n",
    "    optimizer_config=OptimizerConfig(),\n",
    "    trainer_config=trainer_config,\n",
    "    verbose=True\n",
    ")\n"
   ]
  },
  {
   "cell_type": "code",
   "execution_count": 6,
   "metadata": {},
   "outputs": [
    {
     "data": {
      "text/plain": [
       "championId        0\n",
       "tier              0\n",
       "position          0\n",
       "teamId            0\n",
       "kills             0\n",
       "                 ..\n",
       "gameMode.9        0\n",
       "gameVersion.9     0\n",
       "gameDuration.9    0\n",
       "gameId.9          0\n",
       "target            0\n",
       "Length: 591, dtype: int64"
      ]
     },
     "execution_count": 6,
     "metadata": {},
     "output_type": "execute_result"
    }
   ],
   "source": [
    "missing_count = df.isnull().sum()\n",
    "missing_count"
   ]
  },
  {
   "cell_type": "code",
   "execution_count": 7,
   "metadata": {},
   "outputs": [
    {
     "name": "stderr",
     "output_type": "stream",
     "text": [
      "Seed set to 42\n"
     ]
    },
    {
     "data": {
      "text/html": [
       "<pre style=\"white-space:pre;overflow-x:auto;line-height:normal;font-family:Menlo,'DejaVu Sans Mono',consolas,'Courier New',monospace\"><span style=\"color: #008080; text-decoration-color: #008080; font-weight: bold\">2024</span>-<span style=\"color: #008080; text-decoration-color: #008080; font-weight: bold\">05</span>-<span style=\"color: #008080; text-decoration-color: #008080; font-weight: bold\">27</span> <span style=\"color: #00ff00; text-decoration-color: #00ff00; font-weight: bold\">15:34:39</span>,<span style=\"color: #008080; text-decoration-color: #008080; font-weight: bold\">992</span> - <span style=\"font-weight: bold\">{</span>pytorch_tabular.tabular_model:<span style=\"color: #008080; text-decoration-color: #008080; font-weight: bold\">524</span><span style=\"font-weight: bold\">}</span> - INFO - Preparing the DataLoaders                   \n",
       "</pre>\n"
      ],
      "text/plain": [
       "\u001b[1;36m2024\u001b[0m-\u001b[1;36m05\u001b[0m-\u001b[1;36m27\u001b[0m \u001b[1;92m15:34:39\u001b[0m,\u001b[1;36m992\u001b[0m - \u001b[1m{\u001b[0mpytorch_tabular.tabular_model:\u001b[1;36m524\u001b[0m\u001b[1m}\u001b[0m - INFO - Preparing the DataLoaders                   \n"
      ]
     },
     "metadata": {},
     "output_type": "display_data"
    },
    {
     "data": {
      "text/html": [
       "<pre style=\"white-space:pre;overflow-x:auto;line-height:normal;font-family:Menlo,'DejaVu Sans Mono',consolas,'Courier New',monospace\"><span style=\"color: #008080; text-decoration-color: #008080; font-weight: bold\">2024</span>-<span style=\"color: #008080; text-decoration-color: #008080; font-weight: bold\">05</span>-<span style=\"color: #008080; text-decoration-color: #008080; font-weight: bold\">27</span> <span style=\"color: #00ff00; text-decoration-color: #00ff00; font-weight: bold\">15:34:52</span>,<span style=\"color: #008080; text-decoration-color: #008080; font-weight: bold\">072</span> - <span style=\"font-weight: bold\">{</span>pytorch_tabular.tabular_datamodul<span style=\"color: #00ff00; text-decoration-color: #00ff00; font-weight: bold\">e:499</span><span style=\"font-weight: bold\">}</span> - INFO - Setting up the datamodule for          \n",
       "classification task                                                                                                \n",
       "</pre>\n"
      ],
      "text/plain": [
       "\u001b[1;36m2024\u001b[0m-\u001b[1;36m05\u001b[0m-\u001b[1;36m27\u001b[0m \u001b[1;92m15:34:52\u001b[0m,\u001b[1;36m072\u001b[0m - \u001b[1m{\u001b[0mpytorch_tabular.tabular_datamodul\u001b[1;92me:499\u001b[0m\u001b[1m}\u001b[0m - INFO - Setting up the datamodule for          \n",
       "classification task                                                                                                \n"
      ]
     },
     "metadata": {},
     "output_type": "display_data"
    },
    {
     "name": "stderr",
     "output_type": "stream",
     "text": [
      "c:\\Users\\a\\AppData\\Local\\pypoetry\\Cache\\virtualenvs\\tabulr_transformers-5PYuSfOC-py3.11\\Lib\\site-packages\\pytorch_tabular\\categorical_encoders.py:67: FutureWarning: A value is trying to be set on a copy of a DataFrame or Series through chained assignment using an inplace method.\n",
      "The behavior will change in pandas 3.0. This inplace method will never work because the intermediate object on which we are setting values always behaves as a copy.\n",
      "\n",
      "For example, when doing 'df[col].method(value, inplace=True)', try using 'df.method({col: value}, inplace=True)' or df[col] = df[col].method(value) instead, to perform the operation inplace on the original object.\n",
      "\n",
      "\n",
      "  X_encoded[col].fillna(self._imputed, inplace=True)\n",
      "c:\\Users\\a\\AppData\\Local\\pypoetry\\Cache\\virtualenvs\\tabulr_transformers-5PYuSfOC-py3.11\\Lib\\site-packages\\pytorch_tabular\\categorical_encoders.py:67: FutureWarning: A value is trying to be set on a copy of a DataFrame or Series through chained assignment using an inplace method.\n",
      "The behavior will change in pandas 3.0. This inplace method will never work because the intermediate object on which we are setting values always behaves as a copy.\n",
      "\n",
      "For example, when doing 'df[col].method(value, inplace=True)', try using 'df.method({col: value}, inplace=True)' or df[col] = df[col].method(value) instead, to perform the operation inplace on the original object.\n",
      "\n",
      "\n",
      "  X_encoded[col].fillna(self._imputed, inplace=True)\n"
     ]
    },
    {
     "data": {
      "text/html": [
       "<pre style=\"white-space:pre;overflow-x:auto;line-height:normal;font-family:Menlo,'DejaVu Sans Mono',consolas,'Courier New',monospace\"><span style=\"color: #008080; text-decoration-color: #008080; font-weight: bold\">2024</span>-<span style=\"color: #008080; text-decoration-color: #008080; font-weight: bold\">05</span>-<span style=\"color: #008080; text-decoration-color: #008080; font-weight: bold\">27</span> <span style=\"color: #00ff00; text-decoration-color: #00ff00; font-weight: bold\">15:35:21</span>,<span style=\"color: #008080; text-decoration-color: #008080; font-weight: bold\">608</span> - <span style=\"font-weight: bold\">{</span>pytorch_tabular.tabular_model:<span style=\"color: #008080; text-decoration-color: #008080; font-weight: bold\">574</span><span style=\"font-weight: bold\">}</span> - INFO - Preparing the Model: GANDALFModel           \n",
       "</pre>\n"
      ],
      "text/plain": [
       "\u001b[1;36m2024\u001b[0m-\u001b[1;36m05\u001b[0m-\u001b[1;36m27\u001b[0m \u001b[1;92m15:35:21\u001b[0m,\u001b[1;36m608\u001b[0m - \u001b[1m{\u001b[0mpytorch_tabular.tabular_model:\u001b[1;36m574\u001b[0m\u001b[1m}\u001b[0m - INFO - Preparing the Model: GANDALFModel           \n"
      ]
     },
     "metadata": {},
     "output_type": "display_data"
    },
    {
     "data": {
      "text/html": [
       "<pre style=\"white-space:pre;overflow-x:auto;line-height:normal;font-family:Menlo,'DejaVu Sans Mono',consolas,'Courier New',monospace\"><span style=\"color: #008080; text-decoration-color: #008080; font-weight: bold\">2024</span>-<span style=\"color: #008080; text-decoration-color: #008080; font-weight: bold\">05</span>-<span style=\"color: #008080; text-decoration-color: #008080; font-weight: bold\">27</span> <span style=\"color: #00ff00; text-decoration-color: #00ff00; font-weight: bold\">15:35:56</span>,<span style=\"color: #008080; text-decoration-color: #008080; font-weight: bold\">472</span> - <span style=\"font-weight: bold\">{</span>pytorch_tabular.tabular_model:<span style=\"color: #008080; text-decoration-color: #008080; font-weight: bold\">340</span><span style=\"font-weight: bold\">}</span> - INFO - Preparing the Trainer                       \n",
       "</pre>\n"
      ],
      "text/plain": [
       "\u001b[1;36m2024\u001b[0m-\u001b[1;36m05\u001b[0m-\u001b[1;36m27\u001b[0m \u001b[1;92m15:35:56\u001b[0m,\u001b[1;36m472\u001b[0m - \u001b[1m{\u001b[0mpytorch_tabular.tabular_model:\u001b[1;36m340\u001b[0m\u001b[1m}\u001b[0m - INFO - Preparing the Trainer                       \n"
      ]
     },
     "metadata": {},
     "output_type": "display_data"
    },
    {
     "name": "stderr",
     "output_type": "stream",
     "text": [
      "GPU available: True (cuda), used: True\n",
      "TPU available: False, using: 0 TPU cores\n",
      "IPU available: False, using: 0 IPUs\n",
      "HPU available: False, using: 0 HPUs\n"
     ]
    },
    {
     "data": {
      "text/html": [
       "<pre style=\"white-space:pre;overflow-x:auto;line-height:normal;font-family:Menlo,'DejaVu Sans Mono',consolas,'Courier New',monospace\"><span style=\"color: #008080; text-decoration-color: #008080; font-weight: bold\">2024</span>-<span style=\"color: #008080; text-decoration-color: #008080; font-weight: bold\">05</span>-<span style=\"color: #008080; text-decoration-color: #008080; font-weight: bold\">27</span> <span style=\"color: #00ff00; text-decoration-color: #00ff00; font-weight: bold\">15:35:57</span>,<span style=\"color: #008080; text-decoration-color: #008080; font-weight: bold\">587</span> - <span style=\"font-weight: bold\">{</span>pytorch_tabular.tabular_model:<span style=\"color: #008080; text-decoration-color: #008080; font-weight: bold\">630</span><span style=\"font-weight: bold\">}</span> - INFO - Auto LR Find Started                        \n",
       "</pre>\n"
      ],
      "text/plain": [
       "\u001b[1;36m2024\u001b[0m-\u001b[1;36m05\u001b[0m-\u001b[1;36m27\u001b[0m \u001b[1;92m15:35:57\u001b[0m,\u001b[1;36m587\u001b[0m - \u001b[1m{\u001b[0mpytorch_tabular.tabular_model:\u001b[1;36m630\u001b[0m\u001b[1m}\u001b[0m - INFO - Auto LR Find Started                        \n"
      ]
     },
     "metadata": {},
     "output_type": "display_data"
    },
    {
     "name": "stderr",
     "output_type": "stream",
     "text": [
      "c:\\Users\\a\\AppData\\Local\\pypoetry\\Cache\\virtualenvs\\tabulr_transformers-5PYuSfOC-py3.11\\Lib\\site-packages\\pytorch_lightning\\callbacks\\model_checkpoint.py:639: Checkpoint directory D:\\silla\\tab_tf\\saved_models exists and is not empty.\n",
      "LOCAL_RANK: 0 - CUDA_VISIBLE_DEVICES: [0]\n",
      "c:\\Users\\a\\AppData\\Local\\pypoetry\\Cache\\virtualenvs\\tabulr_transformers-5PYuSfOC-py3.11\\Lib\\site-packages\\pytorch_lightning\\trainer\\connectors\\data_connector.py:441: The 'train_dataloader' does not have many workers which may be a bottleneck. Consider increasing the value of the `num_workers` argument` to `num_workers=11` in the `DataLoader` to improve performance.\n",
      "c:\\Users\\a\\AppData\\Local\\pypoetry\\Cache\\virtualenvs\\tabulr_transformers-5PYuSfOC-py3.11\\Lib\\site-packages\\pytorch_lightning\\trainer\\connectors\\data_connector.py:441: The 'val_dataloader' does not have many workers which may be a bottleneck. Consider increasing the value of the `num_workers` argument` to `num_workers=11` in the `DataLoader` to improve performance.\n"
     ]
    },
    {
     "data": {
      "application/vnd.jupyter.widget-view+json": {
       "model_id": "e583c39d244f490386238d5d88c3bac3",
       "version_major": 2,
       "version_minor": 0
      },
      "text/plain": [
       "Finding best initial lr:   0%|          | 0/100 [00:00<?, ?it/s]"
      ]
     },
     "metadata": {},
     "output_type": "display_data"
    },
    {
     "name": "stderr",
     "output_type": "stream",
     "text": [
      "Trainer was signaled to stop but the required `min_epochs=5` or `min_steps=None` has not been met. Training will continue...\n",
      "`Trainer.fit` stopped: `max_steps=100` reached.\n",
      "Learning rate set to 0.0003019951720402019\n",
      "Restoring states from the checkpoint path at d:\\silla\\tab_tf\\.lr_find_128aa016-9b5c-489b-9ec1-0f9d134a76fe.ckpt\n",
      "Restored all states from the checkpoint at d:\\silla\\tab_tf\\.lr_find_128aa016-9b5c-489b-9ec1-0f9d134a76fe.ckpt\n"
     ]
    },
    {
     "data": {
      "text/html": [
       "<pre style=\"white-space:pre;overflow-x:auto;line-height:normal;font-family:Menlo,'DejaVu Sans Mono',consolas,'Courier New',monospace\"><span style=\"color: #008080; text-decoration-color: #008080; font-weight: bold\">2024</span>-<span style=\"color: #008080; text-decoration-color: #008080; font-weight: bold\">05</span>-<span style=\"color: #008080; text-decoration-color: #008080; font-weight: bold\">27</span> <span style=\"color: #00ff00; text-decoration-color: #00ff00; font-weight: bold\">15:36:10</span>,<span style=\"color: #008080; text-decoration-color: #008080; font-weight: bold\">281</span> - <span style=\"font-weight: bold\">{</span>pytorch_tabular.tabular_model:<span style=\"color: #008080; text-decoration-color: #008080; font-weight: bold\">643</span><span style=\"font-weight: bold\">}</span> - INFO - Suggested LR: <span style=\"color: #008080; text-decoration-color: #008080; font-weight: bold\">0.0003019951720402019</span>. For    \n",
       "plot and detailed analysis, use `find_learning_rate` method.                                                       \n",
       "</pre>\n"
      ],
      "text/plain": [
       "\u001b[1;36m2024\u001b[0m-\u001b[1;36m05\u001b[0m-\u001b[1;36m27\u001b[0m \u001b[1;92m15:36:10\u001b[0m,\u001b[1;36m281\u001b[0m - \u001b[1m{\u001b[0mpytorch_tabular.tabular_model:\u001b[1;36m643\u001b[0m\u001b[1m}\u001b[0m - INFO - Suggested LR: \u001b[1;36m0.0003019951720402019\u001b[0m. For    \n",
       "plot and detailed analysis, use `find_learning_rate` method.                                                       \n"
      ]
     },
     "metadata": {},
     "output_type": "display_data"
    },
    {
     "data": {
      "text/html": [
       "<pre style=\"white-space:pre;overflow-x:auto;line-height:normal;font-family:Menlo,'DejaVu Sans Mono',consolas,'Courier New',monospace\"><span style=\"color: #008080; text-decoration-color: #008080; font-weight: bold\">2024</span>-<span style=\"color: #008080; text-decoration-color: #008080; font-weight: bold\">05</span>-<span style=\"color: #008080; text-decoration-color: #008080; font-weight: bold\">27</span> <span style=\"color: #00ff00; text-decoration-color: #00ff00; font-weight: bold\">15:36:10</span>,<span style=\"color: #008080; text-decoration-color: #008080; font-weight: bold\">414</span> - <span style=\"font-weight: bold\">{</span>pytorch_tabular.tabular_model:<span style=\"color: #008080; text-decoration-color: #008080; font-weight: bold\">652</span><span style=\"font-weight: bold\">}</span> - INFO - Training Started                            \n",
       "</pre>\n"
      ],
      "text/plain": [
       "\u001b[1;36m2024\u001b[0m-\u001b[1;36m05\u001b[0m-\u001b[1;36m27\u001b[0m \u001b[1;92m15:36:10\u001b[0m,\u001b[1;36m414\u001b[0m - \u001b[1m{\u001b[0mpytorch_tabular.tabular_model:\u001b[1;36m652\u001b[0m\u001b[1m}\u001b[0m - INFO - Training Started                            \n"
      ]
     },
     "metadata": {},
     "output_type": "display_data"
    },
    {
     "name": "stderr",
     "output_type": "stream",
     "text": [
      "LOCAL_RANK: 0 - CUDA_VISIBLE_DEVICES: [0]\n"
     ]
    },
    {
     "data": {
      "text/html": [
       "<pre style=\"white-space:pre;overflow-x:auto;line-height:normal;font-family:Menlo,'DejaVu Sans Mono',consolas,'Courier New',monospace\">┏━━━┳━━━━━━━━━━━━━━━━━━┳━━━━━━━━━━━━━━━━━━┳━━━━━━━━┓\n",
       "┃<span style=\"color: #800080; text-decoration-color: #800080; font-weight: bold\">   </span>┃<span style=\"color: #800080; text-decoration-color: #800080; font-weight: bold\"> Name             </span>┃<span style=\"color: #800080; text-decoration-color: #800080; font-weight: bold\"> Type             </span>┃<span style=\"color: #800080; text-decoration-color: #800080; font-weight: bold\"> Params </span>┃\n",
       "┡━━━╇━━━━━━━━━━━━━━━━━━╇━━━━━━━━━━━━━━━━━━╇━━━━━━━━┩\n",
       "│<span style=\"color: #7f7f7f; text-decoration-color: #7f7f7f\"> 0 </span>│ _backbone        │ GANDALFBackbone  │ 33.9 M │\n",
       "│<span style=\"color: #7f7f7f; text-decoration-color: #7f7f7f\"> 1 </span>│ _embedding_layer │ Embedding1dLayer │ 24.7 K │\n",
       "│<span style=\"color: #7f7f7f; text-decoration-color: #7f7f7f\"> 2 </span>│ _head            │ Sequential       │  1.9 K │\n",
       "│<span style=\"color: #7f7f7f; text-decoration-color: #7f7f7f\"> 3 </span>│ loss             │ CrossEntropyLoss │      0 │\n",
       "└───┴──────────────────┴──────────────────┴────────┘\n",
       "</pre>\n"
      ],
      "text/plain": [
       "┏━━━┳━━━━━━━━━━━━━━━━━━┳━━━━━━━━━━━━━━━━━━┳━━━━━━━━┓\n",
       "┃\u001b[1;35m \u001b[0m\u001b[1;35m \u001b[0m\u001b[1;35m \u001b[0m┃\u001b[1;35m \u001b[0m\u001b[1;35mName            \u001b[0m\u001b[1;35m \u001b[0m┃\u001b[1;35m \u001b[0m\u001b[1;35mType            \u001b[0m\u001b[1;35m \u001b[0m┃\u001b[1;35m \u001b[0m\u001b[1;35mParams\u001b[0m\u001b[1;35m \u001b[0m┃\n",
       "┡━━━╇━━━━━━━━━━━━━━━━━━╇━━━━━━━━━━━━━━━━━━╇━━━━━━━━┩\n",
       "│\u001b[2m \u001b[0m\u001b[2m0\u001b[0m\u001b[2m \u001b[0m│ _backbone        │ GANDALFBackbone  │ 33.9 M │\n",
       "│\u001b[2m \u001b[0m\u001b[2m1\u001b[0m\u001b[2m \u001b[0m│ _embedding_layer │ Embedding1dLayer │ 24.7 K │\n",
       "│\u001b[2m \u001b[0m\u001b[2m2\u001b[0m\u001b[2m \u001b[0m│ _head            │ Sequential       │  1.9 K │\n",
       "│\u001b[2m \u001b[0m\u001b[2m3\u001b[0m\u001b[2m \u001b[0m│ loss             │ CrossEntropyLoss │      0 │\n",
       "└───┴──────────────────┴──────────────────┴────────┘\n"
      ]
     },
     "metadata": {},
     "output_type": "display_data"
    },
    {
     "data": {
      "text/html": [
       "<pre style=\"white-space:pre;overflow-x:auto;line-height:normal;font-family:Menlo,'DejaVu Sans Mono',consolas,'Courier New',monospace\"><span style=\"font-weight: bold\">Trainable params</span>: 33.9 M                                                                                           \n",
       "<span style=\"font-weight: bold\">Non-trainable params</span>: 0                                                                                            \n",
       "<span style=\"font-weight: bold\">Total params</span>: 33.9 M                                                                                               \n",
       "<span style=\"font-weight: bold\">Total estimated model params size (MB)</span>: 135                                                                        \n",
       "</pre>\n"
      ],
      "text/plain": [
       "\u001b[1mTrainable params\u001b[0m: 33.9 M                                                                                           \n",
       "\u001b[1mNon-trainable params\u001b[0m: 0                                                                                            \n",
       "\u001b[1mTotal params\u001b[0m: 33.9 M                                                                                               \n",
       "\u001b[1mTotal estimated model params size (MB)\u001b[0m: 135                                                                        \n"
      ]
     },
     "metadata": {},
     "output_type": "display_data"
    },
    {
     "data": {
      "application/vnd.jupyter.widget-view+json": {
       "model_id": "a7099c09e5a8417881566988a584f45d",
       "version_major": 2,
       "version_minor": 0
      },
      "text/plain": [
       "Output()"
      ]
     },
     "metadata": {},
     "output_type": "display_data"
    },
    {
     "data": {
      "text/html": [
       "<pre style=\"white-space:pre;overflow-x:auto;line-height:normal;font-family:Menlo,'DejaVu Sans Mono',consolas,'Courier New',monospace\"></pre>\n"
      ],
      "text/plain": []
     },
     "metadata": {},
     "output_type": "display_data"
    },
    {
     "data": {
      "text/html": [
       "<pre style=\"white-space:pre;overflow-x:auto;line-height:normal;font-family:Menlo,'DejaVu Sans Mono',consolas,'Courier New',monospace\">\n",
       "</pre>\n"
      ],
      "text/plain": [
       "\n"
      ]
     },
     "metadata": {},
     "output_type": "display_data"
    },
    {
     "data": {
      "text/html": [
       "<pre style=\"white-space:pre;overflow-x:auto;line-height:normal;font-family:Menlo,'DejaVu Sans Mono',consolas,'Courier New',monospace\"><span style=\"color: #008080; text-decoration-color: #008080; font-weight: bold\">2024</span>-<span style=\"color: #008080; text-decoration-color: #008080; font-weight: bold\">05</span>-<span style=\"color: #008080; text-decoration-color: #008080; font-weight: bold\">27</span> <span style=\"color: #00ff00; text-decoration-color: #00ff00; font-weight: bold\">16:01:47</span>,<span style=\"color: #008080; text-decoration-color: #008080; font-weight: bold\">584</span> - <span style=\"font-weight: bold\">{</span>pytorch_tabular.tabular_model:<span style=\"color: #008080; text-decoration-color: #008080; font-weight: bold\">663</span><span style=\"font-weight: bold\">}</span> - INFO - Training the model completed                \n",
       "</pre>\n"
      ],
      "text/plain": [
       "\u001b[1;36m2024\u001b[0m-\u001b[1;36m05\u001b[0m-\u001b[1;36m27\u001b[0m \u001b[1;92m16:01:47\u001b[0m,\u001b[1;36m584\u001b[0m - \u001b[1m{\u001b[0mpytorch_tabular.tabular_model:\u001b[1;36m663\u001b[0m\u001b[1m}\u001b[0m - INFO - Training the model completed                \n"
      ]
     },
     "metadata": {},
     "output_type": "display_data"
    },
    {
     "data": {
      "text/html": [
       "<pre style=\"white-space:pre;overflow-x:auto;line-height:normal;font-family:Menlo,'DejaVu Sans Mono',consolas,'Courier New',monospace\"><span style=\"color: #008080; text-decoration-color: #008080; font-weight: bold\">2024</span>-<span style=\"color: #008080; text-decoration-color: #008080; font-weight: bold\">05</span>-<span style=\"color: #008080; text-decoration-color: #008080; font-weight: bold\">27</span> <span style=\"color: #00ff00; text-decoration-color: #00ff00; font-weight: bold\">16:01:47</span>,<span style=\"color: #008080; text-decoration-color: #008080; font-weight: bold\">586</span> - <span style=\"font-weight: bold\">{</span>pytorch_tabular.tabular_model:<span style=\"color: #008080; text-decoration-color: #008080; font-weight: bold\">1489</span><span style=\"font-weight: bold\">}</span> - INFO - Loading the best model                     \n",
       "</pre>\n"
      ],
      "text/plain": [
       "\u001b[1;36m2024\u001b[0m-\u001b[1;36m05\u001b[0m-\u001b[1;36m27\u001b[0m \u001b[1;92m16:01:47\u001b[0m,\u001b[1;36m586\u001b[0m - \u001b[1m{\u001b[0mpytorch_tabular.tabular_model:\u001b[1;36m1489\u001b[0m\u001b[1m}\u001b[0m - INFO - Loading the best model                     \n"
      ]
     },
     "metadata": {},
     "output_type": "display_data"
    },
    {
     "data": {
      "text/html": [
       "<pre style=\"white-space:pre;overflow-x:auto;line-height:normal;font-family:Menlo,'DejaVu Sans Mono',consolas,'Courier New',monospace\"><span style=\"color: #008080; text-decoration-color: #008080; font-weight: bold\">2024</span>-<span style=\"color: #008080; text-decoration-color: #008080; font-weight: bold\">05</span>-<span style=\"color: #008080; text-decoration-color: #008080; font-weight: bold\">27</span> <span style=\"color: #00ff00; text-decoration-color: #00ff00; font-weight: bold\">16:01:47</span>,<span style=\"color: #008080; text-decoration-color: #008080; font-weight: bold\">839</span> - <span style=\"font-weight: bold\">{</span>pytorch_tabular.tabular_model:<span style=\"color: #008080; text-decoration-color: #008080; font-weight: bold\">1533</span><span style=\"font-weight: bold\">}</span> - WARNING - Directory is not empty. Overwriting the \n",
       "contents.                                                                                                          \n",
       "</pre>\n"
      ],
      "text/plain": [
       "\u001b[1;36m2024\u001b[0m-\u001b[1;36m05\u001b[0m-\u001b[1;36m27\u001b[0m \u001b[1;92m16:01:47\u001b[0m,\u001b[1;36m839\u001b[0m - \u001b[1m{\u001b[0mpytorch_tabular.tabular_model:\u001b[1;36m1533\u001b[0m\u001b[1m}\u001b[0m - WARNING - Directory is not empty. Overwriting the \n",
       "contents.                                                                                                          \n"
      ]
     },
     "metadata": {},
     "output_type": "display_data"
    },
    {
     "ename": "",
     "evalue": "",
     "output_type": "error",
     "traceback": [
      "\u001b[1;31mThe Kernel crashed while executing code in the current cell or a previous cell. \n",
      "\u001b[1;31mPlease review the code in the cell(s) to identify a possible cause of the failure. \n",
      "\u001b[1;31mClick <a href='https://aka.ms/vscodeJupyterKernelCrash'>here</a> for more info. \n",
      "\u001b[1;31mView Jupyter <a href='command:jupyter.viewOutput'>log</a> for further details."
     ]
    }
   ],
   "source": [
    "tabular_model.fit(train=train_df, validation=valid_df)\n",
    "\n",
    "tabular_model.save_model(\"model.pth\")  # 학습된 모델 저장"
   ]
  }
 ],
 "metadata": {
  "kernelspec": {
   "display_name": "tabulr_transformers-5PYuSfOC-py3.11",
   "language": "python",
   "name": "python3"
  },
  "language_info": {
   "codemirror_mode": {
    "name": "ipython",
    "version": 3
   },
   "file_extension": ".py",
   "mimetype": "text/x-python",
   "name": "python",
   "nbconvert_exporter": "python",
   "pygments_lexer": "ipython3",
   "version": "3.11.7"
  }
 },
 "nbformat": 4,
 "nbformat_minor": 2
}
