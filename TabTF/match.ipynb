{
 "cells": [
  {
   "cell_type": "code",
   "execution_count": 1,
   "metadata": {},
   "outputs": [],
   "source": [
    "import pandas as pd\n",
    "import numpy as np\n",
    "from sklearn.preprocessing import StandardScaler\n",
    "from pytorch_tabular import TabularModel\n",
    "from pytorch_tabular.models import GANDALFConfig\n",
    "from pytorch_tabular.config import (\n",
    "    DataConfig,\n",
    "    OptimizerConfig,\n",
    "    TrainerConfig,\n",
    ")\n",
    "from sklearn.preprocessing import OrdinalEncoder\n",
    "from sklearn.model_selection import train_test_split\n"
   ]
  },
  {
   "cell_type": "code",
   "execution_count": 2,
   "metadata": {},
   "outputs": [
    {
     "data": {
      "text/html": [
       "<div>\n",
       "<style scoped>\n",
       "    .dataframe tbody tr th:only-of-type {\n",
       "        vertical-align: middle;\n",
       "    }\n",
       "\n",
       "    .dataframe tbody tr th {\n",
       "        vertical-align: top;\n",
       "    }\n",
       "\n",
       "    .dataframe thead th {\n",
       "        text-align: right;\n",
       "    }\n",
       "</style>\n",
       "<table border=\"1\" class=\"dataframe\">\n",
       "  <thead>\n",
       "    <tr style=\"text-align: right;\">\n",
       "      <th></th>\n",
       "      <th>championName</th>\n",
       "      <th>tier</th>\n",
       "      <th>position</th>\n",
       "      <th>teamId</th>\n",
       "      <th>win</th>\n",
       "      <th>kills</th>\n",
       "      <th>deaths</th>\n",
       "      <th>assists</th>\n",
       "      <th>totalDamageDealtToChampions</th>\n",
       "      <th>visionScore</th>\n",
       "      <th>...</th>\n",
       "      <th>pentaKills.9</th>\n",
       "      <th>neutralMinionsKilled.9</th>\n",
       "      <th>magicDamageDealt.9</th>\n",
       "      <th>magicDamageDealtToChampions.9</th>\n",
       "      <th>magicDamageTaken.9</th>\n",
       "      <th>wardsPlaced.9</th>\n",
       "      <th>gameMode.9</th>\n",
       "      <th>gameVersion.9</th>\n",
       "      <th>gameDuration.9</th>\n",
       "      <th>gameId.9</th>\n",
       "    </tr>\n",
       "  </thead>\n",
       "  <tbody>\n",
       "    <tr>\n",
       "      <th>0</th>\n",
       "      <td>Malzahar</td>\n",
       "      <td>GOLD</td>\n",
       "      <td>MIDDLE</td>\n",
       "      <td>100</td>\n",
       "      <td>True</td>\n",
       "      <td>5</td>\n",
       "      <td>3</td>\n",
       "      <td>3</td>\n",
       "      <td>20429</td>\n",
       "      <td>19</td>\n",
       "      <td>...</td>\n",
       "      <td>0</td>\n",
       "      <td>136</td>\n",
       "      <td>993</td>\n",
       "      <td>892</td>\n",
       "      <td>8459</td>\n",
       "      <td>1</td>\n",
       "      <td>CLASSIC</td>\n",
       "      <td>13.6.499.7758</td>\n",
       "      <td>1415</td>\n",
       "      <td>6432690956</td>\n",
       "    </tr>\n",
       "    <tr>\n",
       "      <th>1</th>\n",
       "      <td>Morgana</td>\n",
       "      <td>GOLD</td>\n",
       "      <td>JUNGLE</td>\n",
       "      <td>100</td>\n",
       "      <td>True</td>\n",
       "      <td>5</td>\n",
       "      <td>7</td>\n",
       "      <td>20</td>\n",
       "      <td>29274</td>\n",
       "      <td>88</td>\n",
       "      <td>...</td>\n",
       "      <td>0</td>\n",
       "      <td>8</td>\n",
       "      <td>171895</td>\n",
       "      <td>45746</td>\n",
       "      <td>34326</td>\n",
       "      <td>6</td>\n",
       "      <td>CLASSIC</td>\n",
       "      <td>13.6.499.7758</td>\n",
       "      <td>2288</td>\n",
       "      <td>6432696459</td>\n",
       "    </tr>\n",
       "    <tr>\n",
       "      <th>2</th>\n",
       "      <td>Yasuo</td>\n",
       "      <td>BRONZE</td>\n",
       "      <td>BOTTOM</td>\n",
       "      <td>100</td>\n",
       "      <td>True</td>\n",
       "      <td>11</td>\n",
       "      <td>16</td>\n",
       "      <td>14</td>\n",
       "      <td>41681</td>\n",
       "      <td>12</td>\n",
       "      <td>...</td>\n",
       "      <td>0</td>\n",
       "      <td>11</td>\n",
       "      <td>185530</td>\n",
       "      <td>32666</td>\n",
       "      <td>13844</td>\n",
       "      <td>11</td>\n",
       "      <td>CLASSIC</td>\n",
       "      <td>13.6.499.7758</td>\n",
       "      <td>2267</td>\n",
       "      <td>6432704556</td>\n",
       "    </tr>\n",
       "    <tr>\n",
       "      <th>3</th>\n",
       "      <td>Kaisa</td>\n",
       "      <td>GOLD</td>\n",
       "      <td>BOTTOM</td>\n",
       "      <td>100</td>\n",
       "      <td>True</td>\n",
       "      <td>11</td>\n",
       "      <td>5</td>\n",
       "      <td>6</td>\n",
       "      <td>36301</td>\n",
       "      <td>34</td>\n",
       "      <td>...</td>\n",
       "      <td>0</td>\n",
       "      <td>24</td>\n",
       "      <td>153672</td>\n",
       "      <td>24773</td>\n",
       "      <td>8447</td>\n",
       "      <td>13</td>\n",
       "      <td>CLASSIC</td>\n",
       "      <td>13.6.499.7758</td>\n",
       "      <td>2320</td>\n",
       "      <td>6432704874</td>\n",
       "    </tr>\n",
       "    <tr>\n",
       "      <th>4</th>\n",
       "      <td>Warwick</td>\n",
       "      <td>SILVER</td>\n",
       "      <td>TOP</td>\n",
       "      <td>100</td>\n",
       "      <td>False</td>\n",
       "      <td>7</td>\n",
       "      <td>8</td>\n",
       "      <td>2</td>\n",
       "      <td>12299</td>\n",
       "      <td>9</td>\n",
       "      <td>...</td>\n",
       "      <td>0</td>\n",
       "      <td>0</td>\n",
       "      <td>114107</td>\n",
       "      <td>20033</td>\n",
       "      <td>10507</td>\n",
       "      <td>5</td>\n",
       "      <td>CLASSIC</td>\n",
       "      <td>13.6.499.7758</td>\n",
       "      <td>1489</td>\n",
       "      <td>6432709941</td>\n",
       "    </tr>\n",
       "  </tbody>\n",
       "</table>\n",
       "<p>5 rows × 430 columns</p>\n",
       "</div>"
      ],
      "text/plain": [
       "  championName    tier position  teamId    win  kills  deaths  assists  \\\n",
       "0     Malzahar    GOLD   MIDDLE     100   True      5       3        3   \n",
       "1      Morgana    GOLD   JUNGLE     100   True      5       7       20   \n",
       "2        Yasuo  BRONZE   BOTTOM     100   True     11      16       14   \n",
       "3        Kaisa    GOLD   BOTTOM     100   True     11       5        6   \n",
       "4      Warwick  SILVER      TOP     100  False      7       8        2   \n",
       "\n",
       "   totalDamageDealtToChampions  visionScore  ...  pentaKills.9  \\\n",
       "0                        20429           19  ...             0   \n",
       "1                        29274           88  ...             0   \n",
       "2                        41681           12  ...             0   \n",
       "3                        36301           34  ...             0   \n",
       "4                        12299            9  ...             0   \n",
       "\n",
       "   neutralMinionsKilled.9  magicDamageDealt.9  magicDamageDealtToChampions.9  \\\n",
       "0                     136                 993                            892   \n",
       "1                       8              171895                          45746   \n",
       "2                      11              185530                          32666   \n",
       "3                      24              153672                          24773   \n",
       "4                       0              114107                          20033   \n",
       "\n",
       "   magicDamageTaken.9  wardsPlaced.9  gameMode.9  gameVersion.9  \\\n",
       "0                8459              1     CLASSIC  13.6.499.7758   \n",
       "1               34326              6     CLASSIC  13.6.499.7758   \n",
       "2               13844             11     CLASSIC  13.6.499.7758   \n",
       "3                8447             13     CLASSIC  13.6.499.7758   \n",
       "4               10507              5     CLASSIC  13.6.499.7758   \n",
       "\n",
       "   gameDuration.9    gameId.9  \n",
       "0            1415  6432690956  \n",
       "1            2288  6432696459  \n",
       "2            2267  6432704556  \n",
       "3            2320  6432704874  \n",
       "4            1489  6432709941  \n",
       "\n",
       "[5 rows x 430 columns]"
      ]
     },
     "execution_count": 2,
     "metadata": {},
     "output_type": "execute_result"
    }
   ],
   "source": [
    "data = pd.read_csv(\"reshape_total_riot.csv\")\n",
    "df = pd.DataFrame(data)\n",
    "df.head()"
   ]
  },
  {
   "cell_type": "code",
   "execution_count": 3,
   "metadata": {},
   "outputs": [
    {
     "name": "stdout",
     "output_type": "stream",
     "text": [
      "        championName  tier  position  teamId     kills    deaths   assists  \\\n",
      "187981          33.0   1.0       3.0     0.0  1.734062  0.371929 -0.232525   \n",
      "67977          148.0   0.0       2.0     0.0 -0.592623 -0.228340 -0.961786   \n",
      "64272          127.0   0.0       2.0     0.0  0.464961  0.672063  0.679051   \n",
      "262999          68.0   1.0       2.0     0.0 -0.381106 -0.828610 -0.779471   \n",
      "120108          72.0   3.0       0.0     0.0  0.041927  1.872602 -0.597155   \n",
      "\n",
      "        totalDamageDealtToChampions  visionScore  inhibitorKills  ...  \\\n",
      "187981                     1.446699     0.224572       -0.359311  ...   \n",
      "67977                     -1.131530    -0.708928       -0.359311  ...   \n",
      "64272                      0.542272     0.224572       -0.359311  ...   \n",
      "262999                    -0.847232    -0.475553       -0.359311  ...   \n",
      "120108                     0.279939    -0.522228       -0.359311  ...   \n",
      "\n",
      "        neutralMinionsKilled.9  magicDamageDealt.9  \\\n",
      "187981               -0.401625           -0.600923   \n",
      "67977                -0.553554            0.052257   \n",
      "64272                 2.940808           -0.707321   \n",
      "262999               -0.553554           -0.324831   \n",
      "120108               -0.363643            1.908293   \n",
      "\n",
      "        magicDamageDealtToChampions.9  magicDamageTaken.9  wardsPlaced.9  \\\n",
      "187981                      -0.597908            1.053129       0.195191   \n",
      "67977                        0.108406           -1.383624      -0.603164   \n",
      "64272                       -0.733607            0.306421      -0.503369   \n",
      "262999                      -0.100345           -0.440637      -0.303781   \n",
      "120108                       1.143244            1.297120       0.294985   \n",
      "\n",
      "        gameMode.9  gameVersion.9  gameDuration.9  gameId.9  target  \n",
      "187981         0.0           31.0        0.751761  0.575520       1  \n",
      "67977          0.0           10.0       -1.537217 -0.928192       0  \n",
      "64272          0.0            9.0        0.547748 -0.981724       0  \n",
      "262999         0.0           58.0       -1.227835  1.150323       1  \n",
      "120108         0.0           22.0        1.305510 -0.179026       1  \n",
      "\n",
      "[5 rows x 411 columns]\n"
     ]
    }
   ],
   "source": [
    "# 범주형 및 수치형 데이터 처리\n",
    "df['target'] = df['win'].apply(lambda x: 1 if x == True else 0)\n",
    "df = df.drop(columns=['win', 'win.1', 'win.2', 'win.3', 'win.4', 'win.5', 'win.6', 'win.7', 'win.8', 'win.9'])\n",
    "df = df.drop(columns=['kda', 'kda.1', 'kda.2', 'kda.3', 'kda.4', 'kda.5', 'kda.6', 'kda.7', 'kda.8', 'kda.9'])\n",
    "\n",
    "categorical_columns = [ col for col in df.columns if df[col].dtype == \"object\"]\n",
    "numerical_columns = [ col for col in df.columns if df[col].dtype != \"object\"]\n",
    "\n",
    "numerical_columns.remove('target')\n",
    "\n",
    "encoder = OrdinalEncoder()\n",
    "df[categorical_columns] = encoder.fit_transform(df[categorical_columns])\n",
    "\n",
    "# 수치형 데이터 스케일링\n",
    "scaler = StandardScaler()\n",
    "df[numerical_columns] = scaler.fit_transform(df[numerical_columns])\n",
    "\n",
    "\n",
    "\n",
    "train_df, valid_df = train_test_split(df, test_size=0.2, random_state=42)\n",
    "print(train_df.head())\n",
    "# print(valid_df.head())\n"
   ]
  },
  {
   "cell_type": "code",
   "execution_count": 4,
   "metadata": {},
   "outputs": [
    {
     "data": {
      "text/plain": [
       "187981    1\n",
       "67977     0\n",
       "64272     0\n",
       "262999    1\n",
       "120108    1\n",
       "         ..\n",
       "119879    0\n",
       "259178    1\n",
       "131932    0\n",
       "146867    0\n",
       "121958    1\n",
       "Name: target, Length: 239448, dtype: int64"
      ]
     },
     "execution_count": 4,
     "metadata": {},
     "output_type": "execute_result"
    }
   ],
   "source": [
    "train_df['target']"
   ]
  },
  {
   "cell_type": "code",
   "execution_count": 5,
   "metadata": {},
   "outputs": [
    {
     "ename": "TypeError",
     "evalue": "GANDALFConfig.__init__() got an unexpected keyword argument 'layers'",
     "output_type": "error",
     "traceback": [
      "\u001b[1;31m---------------------------------------------------------------------------\u001b[0m",
      "\u001b[1;31mTypeError\u001b[0m                                 Traceback (most recent call last)",
      "Cell \u001b[1;32mIn[5], line 9\u001b[0m\n\u001b[0;32m      2\u001b[0m data_config \u001b[38;5;241m=\u001b[39m DataConfig(\n\u001b[0;32m      3\u001b[0m     target\u001b[38;5;241m=\u001b[39m[\u001b[38;5;124m'\u001b[39m\u001b[38;5;124mtarget\u001b[39m\u001b[38;5;124m'\u001b[39m],             \u001b[38;5;66;03m# 타겟 변수\u001b[39;00m\n\u001b[0;32m      4\u001b[0m     continuous_cols\u001b[38;5;241m=\u001b[39mnumerical_columns,    \u001b[38;5;66;03m# 수치형 변수\u001b[39;00m\n\u001b[0;32m      5\u001b[0m     categorical_cols\u001b[38;5;241m=\u001b[39mcategorical_columns  \u001b[38;5;66;03m# 범주형 변수\u001b[39;00m\n\u001b[0;32m      6\u001b[0m )\n\u001b[0;32m      8\u001b[0m \u001b[38;5;66;03m# 모델 설정\u001b[39;00m\n\u001b[1;32m----> 9\u001b[0m model_config \u001b[38;5;241m=\u001b[39m \u001b[43mGANDALFConfig\u001b[49m\u001b[43m(\u001b[49m\n\u001b[0;32m     10\u001b[0m \u001b[43m    \u001b[49m\u001b[43mtask\u001b[49m\u001b[38;5;241;43m=\u001b[39;49m\u001b[38;5;124;43m\"\u001b[39;49m\u001b[38;5;124;43mclassification\u001b[39;49m\u001b[38;5;124;43m\"\u001b[39;49m\u001b[43m,\u001b[49m\n\u001b[0;32m     11\u001b[0m \u001b[43m    \u001b[49m\u001b[43mgflu_stages\u001b[49m\u001b[38;5;241;43m=\u001b[39;49m\u001b[38;5;241;43m6\u001b[39;49m\u001b[43m,\u001b[49m\n\u001b[0;32m     12\u001b[0m \u001b[43m    \u001b[49m\u001b[43mlayers\u001b[49m\u001b[38;5;241;43m=\u001b[39;49m\u001b[38;5;124;43m\"\u001b[39;49m\u001b[38;5;124;43m512-256-128\u001b[39;49m\u001b[38;5;124;43m\"\u001b[39;49m\u001b[43m,\u001b[49m\n\u001b[0;32m     13\u001b[0m \u001b[43m    \u001b[49m\u001b[43mgflu_feature_init_sparsity\u001b[49m\u001b[38;5;241;43m=\u001b[39;49m\u001b[38;5;241;43m0.3\u001b[39;49m\u001b[43m,\u001b[49m\n\u001b[0;32m     14\u001b[0m \u001b[43m    \u001b[49m\u001b[43mgflu_dropout\u001b[49m\u001b[38;5;241;43m=\u001b[39;49m\u001b[38;5;241;43m0.0\u001b[39;49m\u001b[43m,\u001b[49m\n\u001b[0;32m     15\u001b[0m \u001b[43m    \u001b[49m\u001b[43mlearning_rate\u001b[49m\u001b[38;5;241;43m=\u001b[39;49m\u001b[38;5;241;43m1e-3\u001b[39;49m\u001b[43m,\u001b[49m\n\u001b[0;32m     16\u001b[0m \u001b[43m)\u001b[49m\n\u001b[0;32m     18\u001b[0m \u001b[38;5;66;03m# 학습 설정\u001b[39;00m\n\u001b[0;32m     19\u001b[0m trainer_config \u001b[38;5;241m=\u001b[39m TrainerConfig(\n\u001b[0;32m     20\u001b[0m     auto_lr_find\u001b[38;5;241m=\u001b[39m\u001b[38;5;28;01mTrue\u001b[39;00m,  \u001b[38;5;66;03m# Learning rate 자동 탐색\u001b[39;00m\n\u001b[0;32m     21\u001b[0m     batch_size\u001b[38;5;241m=\u001b[39m\u001b[38;5;241m128\u001b[39m,\n\u001b[0;32m     22\u001b[0m     max_epochs\u001b[38;5;241m=\u001b[39m\u001b[38;5;241m100\u001b[39m,\n\u001b[0;32m     23\u001b[0m     min_epochs\u001b[38;5;241m=\u001b[39m\u001b[38;5;241m5\u001b[39m,\n\u001b[0;32m     24\u001b[0m )\n",
      "\u001b[1;31mTypeError\u001b[0m: GANDALFConfig.__init__() got an unexpected keyword argument 'layers'"
     ]
    },
    {
     "ename": "",
     "evalue": "",
     "output_type": "error",
     "traceback": [
      "\u001b[1;31mThe Kernel crashed while executing code in the current cell or a previous cell. \n",
      "\u001b[1;31mPlease review the code in the cell(s) to identify a possible cause of the failure. \n",
      "\u001b[1;31mClick <a href='https://aka.ms/vscodeJupyterKernelCrash'>here</a> for more info. \n",
      "\u001b[1;31mView Jupyter <a href='command:jupyter.viewOutput'>log</a> for further details."
     ]
    }
   ],
   "source": [
    "# 데이터 설정\n",
    "data_config = DataConfig(\n",
    "    target=['target'],             # 타겟 변수\n",
    "    continuous_cols=numerical_columns,    # 수치형 변수\n",
    "    categorical_cols=categorical_columns  # 범주형 변수\n",
    ")\n",
    "\n",
    "# 모델 설정\n",
    "model_config = GANDALFConfig(\n",
    "    task=\"classification\",\n",
    "    gflu_stages=6,\n",
    "    gflu_feature_init_sparsity=0.3,\n",
    "    gflu_dropout=0.0,\n",
    "    learning_rate=1e-3,\n",
    ")\n",
    "\n",
    "# 학습 설정\n",
    "trainer_config = TrainerConfig(\n",
    "    auto_lr_find=True,  # Learning rate 자동 탐색\n",
    "    batch_size=128,\n",
    "    max_epochs=100,\n",
    "    min_epochs=5,\n",
    ")\n",
    "\n",
    "# 모델 초기화 및 학습\n",
    "tabular_model = TabularModel(\n",
    "    data_config=data_config,\n",
    "    model_config=model_config,\n",
    "    optimizer_config=OptimizerConfig(),\n",
    "    trainer_config=trainer_config,\n",
    "    verbose=True\n",
    ")\n"
   ]
  },
  {
   "cell_type": "code",
   "execution_count": null,
   "metadata": {},
   "outputs": [
    {
     "data": {
      "text/plain": [
       "championName                     0\n",
       "tier                             0\n",
       "position                         0\n",
       "teamId                           0\n",
       "kills                            0\n",
       "deaths                           0\n",
       "assists                          0\n",
       "totalDamageDealtToChampions      0\n",
       "visionScore                      0\n",
       "inhibitorKills                   0\n",
       "baronKills                       0\n",
       "dragonKills                      0\n",
       "goldEarned                       0\n",
       "totalMinionsKilled               0\n",
       "consumablesPurchased             0\n",
       "champLevel                       0\n",
       "goldSpent                        0\n",
       "damageDealtToBuildings           0\n",
       "damageDealtToObjectives          0\n",
       "damageDealtToTurrets             0\n",
       "damageSelfMitigated              0\n",
       "itemsPurchased                   0\n",
       "killingSprees                    0\n",
       "largestCriticalStrike            0\n",
       "largestKillingSpree              0\n",
       "largestMultiKill                 0\n",
       "tripleKills                      0\n",
       "wardsKilled                      0\n",
       "unrealKills                      0\n",
       "totalHeal                        0\n",
       "totalDamageTaken                 0\n",
       "pentaKills                       0\n",
       "neutralMinionsKilled             0\n",
       "magicDamageDealt                 0\n",
       "magicDamageDealtToChampions      0\n",
       "magicDamageTaken                 0\n",
       "wardsPlaced                      0\n",
       "gameMode                         0\n",
       "gameVersion                      0\n",
       "gameDuration                     0\n",
       "gameId                           0\n",
       "championName.1                   0\n",
       "tier.1                           0\n",
       "position.1                       0\n",
       "teamId.1                         0\n",
       "kills.1                          0\n",
       "deaths.1                         0\n",
       "assists.1                        0\n",
       "totalDamageDealtToChampions.1    0\n",
       "visionScore.1                    0\n",
       "inhibitorKills.1                 0\n",
       "baronKills.1                     0\n",
       "dragonKills.1                    0\n",
       "goldEarned.1                     0\n",
       "totalMinionsKilled.1             0\n",
       "consumablesPurchased.1           0\n",
       "champLevel.1                     0\n",
       "goldSpent.1                      0\n",
       "damageDealtToBuildings.1         0\n",
       "damageDealtToObjectives.1        0\n",
       "damageDealtToTurrets.1           0\n",
       "damageSelfMitigated.1            0\n",
       "itemsPurchased.1                 0\n",
       "killingSprees.1                  0\n",
       "largestCriticalStrike.1          0\n",
       "largestKillingSpree.1            0\n",
       "largestMultiKill.1               0\n",
       "tripleKills.1                    0\n",
       "wardsKilled.1                    0\n",
       "unrealKills.1                    0\n",
       "totalHeal.1                      0\n",
       "totalDamageTaken.1               0\n",
       "pentaKills.1                     0\n",
       "neutralMinionsKilled.1           0\n",
       "magicDamageDealt.1               0\n",
       "magicDamageDealtToChampions.1    0\n",
       "magicDamageTaken.1               0\n",
       "wardsPlaced.1                    0\n",
       "gameMode.1                       0\n",
       "gameVersion.1                    0\n",
       "gameDuration.1                   0\n",
       "gameId.1                         0\n",
       "championName.2                   0\n",
       "tier.2                           0\n",
       "position.2                       0\n",
       "teamId.2                         0\n",
       "kills.2                          0\n",
       "deaths.2                         0\n",
       "assists.2                        0\n",
       "totalDamageDealtToChampions.2    0\n",
       "visionScore.2                    0\n",
       "inhibitorKills.2                 0\n",
       "baronKills.2                     0\n",
       "dragonKills.2                    0\n",
       "goldEarned.2                     0\n",
       "totalMinionsKilled.2             0\n",
       "consumablesPurchased.2           0\n",
       "champLevel.2                     0\n",
       "goldSpent.2                      0\n",
       "damageDealtToBuildings.2         0\n",
       "damageDealtToObjectives.2        0\n",
       "damageDealtToTurrets.2           0\n",
       "damageSelfMitigated.2            0\n",
       "itemsPurchased.2                 0\n",
       "killingSprees.2                  0\n",
       "largestCriticalStrike.2          0\n",
       "largestKillingSpree.2            0\n",
       "largestMultiKill.2               0\n",
       "tripleKills.2                    0\n",
       "wardsKilled.2                    0\n",
       "unrealKills.2                    0\n",
       "totalHeal.2                      0\n",
       "totalDamageTaken.2               0\n",
       "pentaKills.2                     0\n",
       "neutralMinionsKilled.2           0\n",
       "magicDamageDealt.2               0\n",
       "magicDamageDealtToChampions.2    0\n",
       "magicDamageTaken.2               0\n",
       "wardsPlaced.2                    0\n",
       "gameMode.2                       0\n",
       "gameVersion.2                    0\n",
       "gameDuration.2                   0\n",
       "gameId.2                         0\n",
       "championName.3                   0\n",
       "tier.3                           0\n",
       "position.3                       0\n",
       "teamId.3                         0\n",
       "kills.3                          0\n",
       "deaths.3                         0\n",
       "assists.3                        0\n",
       "totalDamageDealtToChampions.3    0\n",
       "visionScore.3                    0\n",
       "inhibitorKills.3                 0\n",
       "baronKills.3                     0\n",
       "dragonKills.3                    0\n",
       "goldEarned.3                     0\n",
       "totalMinionsKilled.3             0\n",
       "consumablesPurchased.3           0\n",
       "champLevel.3                     0\n",
       "goldSpent.3                      0\n",
       "damageDealtToBuildings.3         0\n",
       "damageDealtToObjectives.3        0\n",
       "damageDealtToTurrets.3           0\n",
       "damageSelfMitigated.3            0\n",
       "itemsPurchased.3                 0\n",
       "killingSprees.3                  0\n",
       "largestCriticalStrike.3          0\n",
       "largestKillingSpree.3            0\n",
       "largestMultiKill.3               0\n",
       "tripleKills.3                    0\n",
       "wardsKilled.3                    0\n",
       "unrealKills.3                    0\n",
       "totalHeal.3                      0\n",
       "totalDamageTaken.3               0\n",
       "pentaKills.3                     0\n",
       "neutralMinionsKilled.3           0\n",
       "magicDamageDealt.3               0\n",
       "magicDamageDealtToChampions.3    0\n",
       "magicDamageTaken.3               0\n",
       "wardsPlaced.3                    0\n",
       "gameMode.3                       0\n",
       "gameVersion.3                    0\n",
       "gameDuration.3                   0\n",
       "gameId.3                         0\n",
       "championName.4                   0\n",
       "tier.4                           0\n",
       "position.4                       0\n",
       "teamId.4                         0\n",
       "kills.4                          0\n",
       "deaths.4                         0\n",
       "assists.4                        0\n",
       "totalDamageDealtToChampions.4    0\n",
       "visionScore.4                    0\n",
       "inhibitorKills.4                 0\n",
       "baronKills.4                     0\n",
       "dragonKills.4                    0\n",
       "goldEarned.4                     0\n",
       "totalMinionsKilled.4             0\n",
       "consumablesPurchased.4           0\n",
       "champLevel.4                     0\n",
       "goldSpent.4                      0\n",
       "damageDealtToBuildings.4         0\n",
       "damageDealtToObjectives.4        0\n",
       "damageDealtToTurrets.4           0\n",
       "damageSelfMitigated.4            0\n",
       "itemsPurchased.4                 0\n",
       "killingSprees.4                  0\n",
       "largestCriticalStrike.4          0\n",
       "largestKillingSpree.4            0\n",
       "largestMultiKill.4               0\n",
       "tripleKills.4                    0\n",
       "wardsKilled.4                    0\n",
       "unrealKills.4                    0\n",
       "totalHeal.4                      0\n",
       "totalDamageTaken.4               0\n",
       "pentaKills.4                     0\n",
       "neutralMinionsKilled.4           0\n",
       "magicDamageDealt.4               0\n",
       "magicDamageDealtToChampions.4    0\n",
       "magicDamageTaken.4               0\n",
       "wardsPlaced.4                    0\n",
       "gameMode.4                       0\n",
       "gameVersion.4                    0\n",
       "gameDuration.4                   0\n",
       "gameId.4                         0\n",
       "championName.5                   0\n",
       "tier.5                           0\n",
       "position.5                       0\n",
       "teamId.5                         0\n",
       "kills.5                          0\n",
       "deaths.5                         0\n",
       "assists.5                        0\n",
       "totalDamageDealtToChampions.5    0\n",
       "visionScore.5                    0\n",
       "inhibitorKills.5                 0\n",
       "baronKills.5                     0\n",
       "dragonKills.5                    0\n",
       "goldEarned.5                     0\n",
       "totalMinionsKilled.5             0\n",
       "consumablesPurchased.5           0\n",
       "champLevel.5                     0\n",
       "goldSpent.5                      0\n",
       "damageDealtToBuildings.5         0\n",
       "damageDealtToObjectives.5        0\n",
       "damageDealtToTurrets.5           0\n",
       "damageSelfMitigated.5            0\n",
       "itemsPurchased.5                 0\n",
       "killingSprees.5                  0\n",
       "largestCriticalStrike.5          0\n",
       "largestKillingSpree.5            0\n",
       "largestMultiKill.5               0\n",
       "tripleKills.5                    0\n",
       "wardsKilled.5                    0\n",
       "unrealKills.5                    0\n",
       "totalHeal.5                      0\n",
       "totalDamageTaken.5               0\n",
       "pentaKills.5                     0\n",
       "neutralMinionsKilled.5           0\n",
       "magicDamageDealt.5               0\n",
       "magicDamageDealtToChampions.5    0\n",
       "magicDamageTaken.5               0\n",
       "wardsPlaced.5                    0\n",
       "gameMode.5                       0\n",
       "gameVersion.5                    0\n",
       "gameDuration.5                   0\n",
       "gameId.5                         0\n",
       "championName.6                   0\n",
       "tier.6                           0\n",
       "position.6                       0\n",
       "teamId.6                         0\n",
       "kills.6                          0\n",
       "deaths.6                         0\n",
       "assists.6                        0\n",
       "totalDamageDealtToChampions.6    0\n",
       "visionScore.6                    0\n",
       "inhibitorKills.6                 0\n",
       "baronKills.6                     0\n",
       "dragonKills.6                    0\n",
       "goldEarned.6                     0\n",
       "totalMinionsKilled.6             0\n",
       "consumablesPurchased.6           0\n",
       "champLevel.6                     0\n",
       "goldSpent.6                      0\n",
       "damageDealtToBuildings.6         0\n",
       "damageDealtToObjectives.6        0\n",
       "damageDealtToTurrets.6           0\n",
       "damageSelfMitigated.6            0\n",
       "itemsPurchased.6                 0\n",
       "killingSprees.6                  0\n",
       "largestCriticalStrike.6          0\n",
       "largestKillingSpree.6            0\n",
       "largestMultiKill.6               0\n",
       "tripleKills.6                    0\n",
       "wardsKilled.6                    0\n",
       "unrealKills.6                    0\n",
       "totalHeal.6                      0\n",
       "totalDamageTaken.6               0\n",
       "pentaKills.6                     0\n",
       "neutralMinionsKilled.6           0\n",
       "magicDamageDealt.6               0\n",
       "magicDamageDealtToChampions.6    0\n",
       "magicDamageTaken.6               0\n",
       "wardsPlaced.6                    0\n",
       "gameMode.6                       0\n",
       "gameVersion.6                    0\n",
       "gameDuration.6                   0\n",
       "gameId.6                         0\n",
       "championName.7                   0\n",
       "tier.7                           0\n",
       "position.7                       0\n",
       "teamId.7                         0\n",
       "kills.7                          0\n",
       "deaths.7                         0\n",
       "assists.7                        0\n",
       "totalDamageDealtToChampions.7    0\n",
       "visionScore.7                    0\n",
       "inhibitorKills.7                 0\n",
       "baronKills.7                     0\n",
       "dragonKills.7                    0\n",
       "goldEarned.7                     0\n",
       "totalMinionsKilled.7             0\n",
       "consumablesPurchased.7           0\n",
       "champLevel.7                     0\n",
       "goldSpent.7                      0\n",
       "damageDealtToBuildings.7         0\n",
       "damageDealtToObjectives.7        0\n",
       "damageDealtToTurrets.7           0\n",
       "damageSelfMitigated.7            0\n",
       "itemsPurchased.7                 0\n",
       "killingSprees.7                  0\n",
       "largestCriticalStrike.7          0\n",
       "largestKillingSpree.7            0\n",
       "largestMultiKill.7               0\n",
       "tripleKills.7                    0\n",
       "wardsKilled.7                    0\n",
       "unrealKills.7                    0\n",
       "totalHeal.7                      0\n",
       "totalDamageTaken.7               0\n",
       "pentaKills.7                     0\n",
       "neutralMinionsKilled.7           0\n",
       "magicDamageDealt.7               0\n",
       "magicDamageDealtToChampions.7    0\n",
       "magicDamageTaken.7               0\n",
       "wardsPlaced.7                    0\n",
       "gameMode.7                       0\n",
       "gameVersion.7                    0\n",
       "gameDuration.7                   0\n",
       "gameId.7                         0\n",
       "championName.8                   0\n",
       "tier.8                           0\n",
       "position.8                       0\n",
       "teamId.8                         0\n",
       "kills.8                          0\n",
       "deaths.8                         0\n",
       "assists.8                        0\n",
       "totalDamageDealtToChampions.8    0\n",
       "visionScore.8                    0\n",
       "inhibitorKills.8                 0\n",
       "baronKills.8                     0\n",
       "dragonKills.8                    0\n",
       "goldEarned.8                     0\n",
       "totalMinionsKilled.8             0\n",
       "consumablesPurchased.8           0\n",
       "champLevel.8                     0\n",
       "goldSpent.8                      0\n",
       "damageDealtToBuildings.8         0\n",
       "damageDealtToObjectives.8        0\n",
       "damageDealtToTurrets.8           0\n",
       "damageSelfMitigated.8            0\n",
       "itemsPurchased.8                 0\n",
       "killingSprees.8                  0\n",
       "largestCriticalStrike.8          0\n",
       "largestKillingSpree.8            0\n",
       "largestMultiKill.8               0\n",
       "tripleKills.8                    0\n",
       "wardsKilled.8                    0\n",
       "unrealKills.8                    0\n",
       "totalHeal.8                      0\n",
       "totalDamageTaken.8               0\n",
       "pentaKills.8                     0\n",
       "neutralMinionsKilled.8           0\n",
       "magicDamageDealt.8               0\n",
       "magicDamageDealtToChampions.8    0\n",
       "magicDamageTaken.8               0\n",
       "wardsPlaced.8                    0\n",
       "gameMode.8                       0\n",
       "gameVersion.8                    0\n",
       "gameDuration.8                   0\n",
       "gameId.8                         0\n",
       "championName.9                   0\n",
       "tier.9                           0\n",
       "position.9                       0\n",
       "teamId.9                         0\n",
       "kills.9                          0\n",
       "deaths.9                         0\n",
       "assists.9                        0\n",
       "totalDamageDealtToChampions.9    0\n",
       "visionScore.9                    0\n",
       "inhibitorKills.9                 0\n",
       "baronKills.9                     0\n",
       "dragonKills.9                    0\n",
       "goldEarned.9                     0\n",
       "totalMinionsKilled.9             0\n",
       "consumablesPurchased.9           0\n",
       "champLevel.9                     0\n",
       "goldSpent.9                      0\n",
       "damageDealtToBuildings.9         0\n",
       "damageDealtToObjectives.9        0\n",
       "damageDealtToTurrets.9           0\n",
       "damageSelfMitigated.9            0\n",
       "itemsPurchased.9                 0\n",
       "killingSprees.9                  0\n",
       "largestCriticalStrike.9          0\n",
       "largestKillingSpree.9            0\n",
       "largestMultiKill.9               0\n",
       "tripleKills.9                    0\n",
       "wardsKilled.9                    0\n",
       "unrealKills.9                    0\n",
       "totalHeal.9                      0\n",
       "totalDamageTaken.9               0\n",
       "pentaKills.9                     0\n",
       "neutralMinionsKilled.9           0\n",
       "magicDamageDealt.9               0\n",
       "magicDamageDealtToChampions.9    0\n",
       "magicDamageTaken.9               0\n",
       "wardsPlaced.9                    0\n",
       "gameMode.9                       0\n",
       "gameVersion.9                    0\n",
       "gameDuration.9                   0\n",
       "gameId.9                         0\n",
       "target                           0\n",
       "dtype: int64"
      ]
     },
     "execution_count": 36,
     "metadata": {},
     "output_type": "execute_result"
    }
   ],
   "source": [
    "missing_count = df.isnull().sum()\n",
    "missing_count"
   ]
  },
  {
   "cell_type": "code",
   "execution_count": null,
   "metadata": {},
   "outputs": [
    {
     "name": "stderr",
     "output_type": "stream",
     "text": [
      "Seed set to 42\n"
     ]
    },
    {
     "data": {
      "text/html": [
       "<pre style=\"white-space:pre;overflow-x:auto;line-height:normal;font-family:Menlo,'DejaVu Sans Mono',consolas,'Courier New',monospace\"><span style=\"color: #008080; text-decoration-color: #008080; font-weight: bold\">2024</span>-<span style=\"color: #008080; text-decoration-color: #008080; font-weight: bold\">05</span>-<span style=\"color: #008080; text-decoration-color: #008080; font-weight: bold\">23</span> <span style=\"color: #00ff00; text-decoration-color: #00ff00; font-weight: bold\">18:53:37</span>,<span style=\"color: #008080; text-decoration-color: #008080; font-weight: bold\">927</span> - <span style=\"font-weight: bold\">{</span>pytorch_tabular.tabular_model:<span style=\"color: #008080; text-decoration-color: #008080; font-weight: bold\">524</span><span style=\"font-weight: bold\">}</span> - INFO - Preparing the DataLoaders                   \n",
       "</pre>\n"
      ],
      "text/plain": [
       "\u001b[1;36m2024\u001b[0m-\u001b[1;36m05\u001b[0m-\u001b[1;36m23\u001b[0m \u001b[1;92m18:53:37\u001b[0m,\u001b[1;36m927\u001b[0m - \u001b[1m{\u001b[0mpytorch_tabular.tabular_model:\u001b[1;36m524\u001b[0m\u001b[1m}\u001b[0m - INFO - Preparing the DataLoaders                   \n"
      ]
     },
     "metadata": {},
     "output_type": "display_data"
    },
    {
     "data": {
      "text/html": [
       "<pre style=\"white-space:pre;overflow-x:auto;line-height:normal;font-family:Menlo,'DejaVu Sans Mono',consolas,'Courier New',monospace\"><span style=\"color: #008080; text-decoration-color: #008080; font-weight: bold\">2024</span>-<span style=\"color: #008080; text-decoration-color: #008080; font-weight: bold\">05</span>-<span style=\"color: #008080; text-decoration-color: #008080; font-weight: bold\">23</span> <span style=\"color: #00ff00; text-decoration-color: #00ff00; font-weight: bold\">18:53:38</span>,<span style=\"color: #008080; text-decoration-color: #008080; font-weight: bold\">925</span> - <span style=\"font-weight: bold\">{</span>pytorch_tabular.tabular_datamodul<span style=\"color: #00ff00; text-decoration-color: #00ff00; font-weight: bold\">e:499</span><span style=\"font-weight: bold\">}</span> - INFO - Setting up the datamodule for          \n",
       "classification task                                                                                                \n",
       "</pre>\n"
      ],
      "text/plain": [
       "\u001b[1;36m2024\u001b[0m-\u001b[1;36m05\u001b[0m-\u001b[1;36m23\u001b[0m \u001b[1;92m18:53:38\u001b[0m,\u001b[1;36m925\u001b[0m - \u001b[1m{\u001b[0mpytorch_tabular.tabular_datamodul\u001b[1;92me:499\u001b[0m\u001b[1m}\u001b[0m - INFO - Setting up the datamodule for          \n",
       "classification task                                                                                                \n"
      ]
     },
     "metadata": {},
     "output_type": "display_data"
    },
    {
     "name": "stderr",
     "output_type": "stream",
     "text": [
      "c:\\Users\\a\\AppData\\Local\\pypoetry\\Cache\\virtualenvs\\tabulr_transformers-5PYuSfOC-py3.11\\Lib\\site-packages\\pytorch_tabular\\categorical_encoders.py:67: FutureWarning: A value is trying to be set on a copy of a DataFrame or Series through chained assignment using an inplace method.\n",
      "The behavior will change in pandas 3.0. This inplace method will never work because the intermediate object on which we are setting values always behaves as a copy.\n",
      "\n",
      "For example, when doing 'df[col].method(value, inplace=True)', try using 'df.method({col: value}, inplace=True)' or df[col] = df[col].method(value) instead, to perform the operation inplace on the original object.\n",
      "\n",
      "\n",
      "  X_encoded[col].fillna(self._imputed, inplace=True)\n",
      "c:\\Users\\a\\AppData\\Local\\pypoetry\\Cache\\virtualenvs\\tabulr_transformers-5PYuSfOC-py3.11\\Lib\\site-packages\\pytorch_tabular\\categorical_encoders.py:67: FutureWarning: A value is trying to be set on a copy of a DataFrame or Series through chained assignment using an inplace method.\n",
      "The behavior will change in pandas 3.0. This inplace method will never work because the intermediate object on which we are setting values always behaves as a copy.\n",
      "\n",
      "For example, when doing 'df[col].method(value, inplace=True)', try using 'df.method({col: value}, inplace=True)' or df[col] = df[col].method(value) instead, to perform the operation inplace on the original object.\n",
      "\n",
      "\n",
      "  X_encoded[col].fillna(self._imputed, inplace=True)\n"
     ]
    },
    {
     "data": {
      "text/html": [
       "<pre style=\"white-space:pre;overflow-x:auto;line-height:normal;font-family:Menlo,'DejaVu Sans Mono',consolas,'Courier New',monospace\"><span style=\"color: #008080; text-decoration-color: #008080; font-weight: bold\">2024</span>-<span style=\"color: #008080; text-decoration-color: #008080; font-weight: bold\">05</span>-<span style=\"color: #008080; text-decoration-color: #008080; font-weight: bold\">23</span> <span style=\"color: #00ff00; text-decoration-color: #00ff00; font-weight: bold\">18:53:45</span>,<span style=\"color: #008080; text-decoration-color: #008080; font-weight: bold\">796</span> - <span style=\"font-weight: bold\">{</span>pytorch_tabular.tabular_model:<span style=\"color: #008080; text-decoration-color: #008080; font-weight: bold\">574</span><span style=\"font-weight: bold\">}</span> - INFO - Preparing the Model: GANDALFModel           \n",
       "</pre>\n"
      ],
      "text/plain": [
       "\u001b[1;36m2024\u001b[0m-\u001b[1;36m05\u001b[0m-\u001b[1;36m23\u001b[0m \u001b[1;92m18:53:45\u001b[0m,\u001b[1;36m796\u001b[0m - \u001b[1m{\u001b[0mpytorch_tabular.tabular_model:\u001b[1;36m574\u001b[0m\u001b[1m}\u001b[0m - INFO - Preparing the Model: GANDALFModel           \n"
      ]
     },
     "metadata": {},
     "output_type": "display_data"
    },
    {
     "data": {
      "text/html": [
       "<pre style=\"white-space:pre;overflow-x:auto;line-height:normal;font-family:Menlo,'DejaVu Sans Mono',consolas,'Courier New',monospace\"><span style=\"color: #008080; text-decoration-color: #008080; font-weight: bold\">2024</span>-<span style=\"color: #008080; text-decoration-color: #008080; font-weight: bold\">05</span>-<span style=\"color: #008080; text-decoration-color: #008080; font-weight: bold\">23</span> <span style=\"color: #00ff00; text-decoration-color: #00ff00; font-weight: bold\">18:54:01</span>,<span style=\"color: #008080; text-decoration-color: #008080; font-weight: bold\">538</span> - <span style=\"font-weight: bold\">{</span>pytorch_tabular.tabular_model:<span style=\"color: #008080; text-decoration-color: #008080; font-weight: bold\">340</span><span style=\"font-weight: bold\">}</span> - INFO - Preparing the Trainer                       \n",
       "</pre>\n"
      ],
      "text/plain": [
       "\u001b[1;36m2024\u001b[0m-\u001b[1;36m05\u001b[0m-\u001b[1;36m23\u001b[0m \u001b[1;92m18:54:01\u001b[0m,\u001b[1;36m538\u001b[0m - \u001b[1m{\u001b[0mpytorch_tabular.tabular_model:\u001b[1;36m340\u001b[0m\u001b[1m}\u001b[0m - INFO - Preparing the Trainer                       \n"
      ]
     },
     "metadata": {},
     "output_type": "display_data"
    },
    {
     "name": "stderr",
     "output_type": "stream",
     "text": [
      "GPU available: True (cuda), used: True\n",
      "TPU available: False, using: 0 TPU cores\n",
      "IPU available: False, using: 0 IPUs\n",
      "HPU available: False, using: 0 HPUs\n"
     ]
    },
    {
     "data": {
      "text/html": [
       "<pre style=\"white-space:pre;overflow-x:auto;line-height:normal;font-family:Menlo,'DejaVu Sans Mono',consolas,'Courier New',monospace\"><span style=\"color: #008080; text-decoration-color: #008080; font-weight: bold\">2024</span>-<span style=\"color: #008080; text-decoration-color: #008080; font-weight: bold\">05</span>-<span style=\"color: #008080; text-decoration-color: #008080; font-weight: bold\">23</span> <span style=\"color: #00ff00; text-decoration-color: #00ff00; font-weight: bold\">18:54:01</span>,<span style=\"color: #008080; text-decoration-color: #008080; font-weight: bold\">576</span> - <span style=\"font-weight: bold\">{</span>pytorch_tabular.tabular_model:<span style=\"color: #008080; text-decoration-color: #008080; font-weight: bold\">630</span><span style=\"font-weight: bold\">}</span> - INFO - Auto LR Find Started                        \n",
       "</pre>\n"
      ],
      "text/plain": [
       "\u001b[1;36m2024\u001b[0m-\u001b[1;36m05\u001b[0m-\u001b[1;36m23\u001b[0m \u001b[1;92m18:54:01\u001b[0m,\u001b[1;36m576\u001b[0m - \u001b[1m{\u001b[0mpytorch_tabular.tabular_model:\u001b[1;36m630\u001b[0m\u001b[1m}\u001b[0m - INFO - Auto LR Find Started                        \n"
      ]
     },
     "metadata": {},
     "output_type": "display_data"
    },
    {
     "name": "stderr",
     "output_type": "stream",
     "text": [
      "c:\\Users\\a\\AppData\\Local\\pypoetry\\Cache\\virtualenvs\\tabulr_transformers-5PYuSfOC-py3.11\\Lib\\site-packages\\pytorch_lightning\\callbacks\\model_checkpoint.py:639: Checkpoint directory D:\\silla\\tab_tf\\saved_models exists and is not empty.\n",
      "LOCAL_RANK: 0 - CUDA_VISIBLE_DEVICES: [0]\n",
      "c:\\Users\\a\\AppData\\Local\\pypoetry\\Cache\\virtualenvs\\tabulr_transformers-5PYuSfOC-py3.11\\Lib\\site-packages\\pytorch_lightning\\trainer\\connectors\\data_connector.py:441: The 'train_dataloader' does not have many workers which may be a bottleneck. Consider increasing the value of the `num_workers` argument` to `num_workers=11` in the `DataLoader` to improve performance.\n",
      "c:\\Users\\a\\AppData\\Local\\pypoetry\\Cache\\virtualenvs\\tabulr_transformers-5PYuSfOC-py3.11\\Lib\\site-packages\\pytorch_lightning\\trainer\\connectors\\data_connector.py:441: The 'val_dataloader' does not have many workers which may be a bottleneck. Consider increasing the value of the `num_workers` argument` to `num_workers=11` in the `DataLoader` to improve performance.\n"
     ]
    },
    {
     "data": {
      "application/vnd.jupyter.widget-view+json": {
       "model_id": "2de77809fd524fb6996579a377d0f09e",
       "version_major": 2,
       "version_minor": 0
      },
      "text/plain": [
       "Finding best initial lr:   0%|          | 0/100 [00:00<?, ?it/s]"
      ]
     },
     "metadata": {},
     "output_type": "display_data"
    },
    {
     "name": "stderr",
     "output_type": "stream",
     "text": [
      "Trainer was signaled to stop but the required `min_epochs=10` or `min_steps=None` has not been met. Training will continue...\n",
      "`Trainer.fit` stopped: `max_steps=100` reached.\n",
      "Learning rate set to 0.0002089296130854041\n",
      "Restoring states from the checkpoint path at d:\\silla\\tab_tf\\.lr_find_130e0847-4173-4923-a98f-db94a7abef05.ckpt\n",
      "Restored all states from the checkpoint at d:\\silla\\tab_tf\\.lr_find_130e0847-4173-4923-a98f-db94a7abef05.ckpt\n"
     ]
    },
    {
     "data": {
      "text/html": [
       "<pre style=\"white-space:pre;overflow-x:auto;line-height:normal;font-family:Menlo,'DejaVu Sans Mono',consolas,'Courier New',monospace\"><span style=\"color: #008080; text-decoration-color: #008080; font-weight: bold\">2024</span>-<span style=\"color: #008080; text-decoration-color: #008080; font-weight: bold\">05</span>-<span style=\"color: #008080; text-decoration-color: #008080; font-weight: bold\">23</span> <span style=\"color: #00ff00; text-decoration-color: #00ff00; font-weight: bold\">18:54:16</span>,<span style=\"color: #008080; text-decoration-color: #008080; font-weight: bold\">259</span> - <span style=\"font-weight: bold\">{</span>pytorch_tabular.tabular_model:<span style=\"color: #008080; text-decoration-color: #008080; font-weight: bold\">643</span><span style=\"font-weight: bold\">}</span> - INFO - Suggested LR: <span style=\"color: #008080; text-decoration-color: #008080; font-weight: bold\">0.0002089296130854041</span>. For    \n",
       "plot and detailed analysis, use `find_learning_rate` method.                                                       \n",
       "</pre>\n"
      ],
      "text/plain": [
       "\u001b[1;36m2024\u001b[0m-\u001b[1;36m05\u001b[0m-\u001b[1;36m23\u001b[0m \u001b[1;92m18:54:16\u001b[0m,\u001b[1;36m259\u001b[0m - \u001b[1m{\u001b[0mpytorch_tabular.tabular_model:\u001b[1;36m643\u001b[0m\u001b[1m}\u001b[0m - INFO - Suggested LR: \u001b[1;36m0.0002089296130854041\u001b[0m. For    \n",
       "plot and detailed analysis, use `find_learning_rate` method.                                                       \n"
      ]
     },
     "metadata": {},
     "output_type": "display_data"
    },
    {
     "data": {
      "text/html": [
       "<pre style=\"white-space:pre;overflow-x:auto;line-height:normal;font-family:Menlo,'DejaVu Sans Mono',consolas,'Courier New',monospace\"><span style=\"color: #008080; text-decoration-color: #008080; font-weight: bold\">2024</span>-<span style=\"color: #008080; text-decoration-color: #008080; font-weight: bold\">05</span>-<span style=\"color: #008080; text-decoration-color: #008080; font-weight: bold\">23</span> <span style=\"color: #00ff00; text-decoration-color: #00ff00; font-weight: bold\">18:54:16</span>,<span style=\"color: #008080; text-decoration-color: #008080; font-weight: bold\">492</span> - <span style=\"font-weight: bold\">{</span>pytorch_tabular.tabular_model:<span style=\"color: #008080; text-decoration-color: #008080; font-weight: bold\">652</span><span style=\"font-weight: bold\">}</span> - INFO - Training Started                            \n",
       "</pre>\n"
      ],
      "text/plain": [
       "\u001b[1;36m2024\u001b[0m-\u001b[1;36m05\u001b[0m-\u001b[1;36m23\u001b[0m \u001b[1;92m18:54:16\u001b[0m,\u001b[1;36m492\u001b[0m - \u001b[1m{\u001b[0mpytorch_tabular.tabular_model:\u001b[1;36m652\u001b[0m\u001b[1m}\u001b[0m - INFO - Training Started                            \n"
      ]
     },
     "metadata": {},
     "output_type": "display_data"
    },
    {
     "name": "stderr",
     "output_type": "stream",
     "text": [
      "LOCAL_RANK: 0 - CUDA_VISIBLE_DEVICES: [0]\n"
     ]
    },
    {
     "data": {
      "text/html": [
       "<pre style=\"white-space:pre;overflow-x:auto;line-height:normal;font-family:Menlo,'DejaVu Sans Mono',consolas,'Courier New',monospace\">┏━━━┳━━━━━━━━━━━━━━━━━━┳━━━━━━━━━━━━━━━━━━┳━━━━━━━━┓\n",
       "┃<span style=\"color: #800080; text-decoration-color: #800080; font-weight: bold\">   </span>┃<span style=\"color: #800080; text-decoration-color: #800080; font-weight: bold\"> Name             </span>┃<span style=\"color: #800080; text-decoration-color: #800080; font-weight: bold\"> Type             </span>┃<span style=\"color: #800080; text-decoration-color: #800080; font-weight: bold\"> Params </span>┃\n",
       "┡━━━╇━━━━━━━━━━━━━━━━━━╇━━━━━━━━━━━━━━━━━━╇━━━━━━━━┩\n",
       "│<span style=\"color: #7f7f7f; text-decoration-color: #7f7f7f\"> 0 </span>│ _backbone        │ GANDALFBackbone  │ 59.0 M │\n",
       "│<span style=\"color: #7f7f7f; text-decoration-color: #7f7f7f\"> 1 </span>│ _embedding_layer │ Embedding1dLayer │  107 K │\n",
       "│<span style=\"color: #7f7f7f; text-decoration-color: #7f7f7f\"> 2 </span>│ _head            │ Sequential       │  2.6 K │\n",
       "│<span style=\"color: #7f7f7f; text-decoration-color: #7f7f7f\"> 3 </span>│ loss             │ CrossEntropyLoss │      0 │\n",
       "└───┴──────────────────┴──────────────────┴────────┘\n",
       "</pre>\n"
      ],
      "text/plain": [
       "┏━━━┳━━━━━━━━━━━━━━━━━━┳━━━━━━━━━━━━━━━━━━┳━━━━━━━━┓\n",
       "┃\u001b[1;35m \u001b[0m\u001b[1;35m \u001b[0m\u001b[1;35m \u001b[0m┃\u001b[1;35m \u001b[0m\u001b[1;35mName            \u001b[0m\u001b[1;35m \u001b[0m┃\u001b[1;35m \u001b[0m\u001b[1;35mType            \u001b[0m\u001b[1;35m \u001b[0m┃\u001b[1;35m \u001b[0m\u001b[1;35mParams\u001b[0m\u001b[1;35m \u001b[0m┃\n",
       "┡━━━╇━━━━━━━━━━━━━━━━━━╇━━━━━━━━━━━━━━━━━━╇━━━━━━━━┩\n",
       "│\u001b[2m \u001b[0m\u001b[2m0\u001b[0m\u001b[2m \u001b[0m│ _backbone        │ GANDALFBackbone  │ 59.0 M │\n",
       "│\u001b[2m \u001b[0m\u001b[2m1\u001b[0m\u001b[2m \u001b[0m│ _embedding_layer │ Embedding1dLayer │  107 K │\n",
       "│\u001b[2m \u001b[0m\u001b[2m2\u001b[0m\u001b[2m \u001b[0m│ _head            │ Sequential       │  2.6 K │\n",
       "│\u001b[2m \u001b[0m\u001b[2m3\u001b[0m\u001b[2m \u001b[0m│ loss             │ CrossEntropyLoss │      0 │\n",
       "└───┴──────────────────┴──────────────────┴────────┘\n"
      ]
     },
     "metadata": {},
     "output_type": "display_data"
    },
    {
     "data": {
      "text/html": [
       "<pre style=\"white-space:pre;overflow-x:auto;line-height:normal;font-family:Menlo,'DejaVu Sans Mono',consolas,'Courier New',monospace\"><span style=\"font-weight: bold\">Trainable params</span>: 59.1 M                                                                                           \n",
       "<span style=\"font-weight: bold\">Non-trainable params</span>: 0                                                                                            \n",
       "<span style=\"font-weight: bold\">Total params</span>: 59.1 M                                                                                               \n",
       "<span style=\"font-weight: bold\">Total estimated model params size (MB)</span>: 236                                                                        \n",
       "</pre>\n"
      ],
      "text/plain": [
       "\u001b[1mTrainable params\u001b[0m: 59.1 M                                                                                           \n",
       "\u001b[1mNon-trainable params\u001b[0m: 0                                                                                            \n",
       "\u001b[1mTotal params\u001b[0m: 59.1 M                                                                                               \n",
       "\u001b[1mTotal estimated model params size (MB)\u001b[0m: 236                                                                        \n"
      ]
     },
     "metadata": {},
     "output_type": "display_data"
    },
    {
     "data": {
      "application/vnd.jupyter.widget-view+json": {
       "model_id": "93c4d19109094387a2765798cd2e8b07",
       "version_major": 2,
       "version_minor": 0
      },
      "text/plain": [
       "Output()"
      ]
     },
     "metadata": {},
     "output_type": "display_data"
    },
    {
     "data": {
      "text/html": [
       "<pre style=\"white-space:pre;overflow-x:auto;line-height:normal;font-family:Menlo,'DejaVu Sans Mono',consolas,'Courier New',monospace\"></pre>\n"
      ],
      "text/plain": []
     },
     "metadata": {},
     "output_type": "display_data"
    },
    {
     "data": {
      "text/html": [
       "<pre style=\"white-space:pre;overflow-x:auto;line-height:normal;font-family:Menlo,'DejaVu Sans Mono',consolas,'Courier New',monospace\">\n",
       "</pre>\n"
      ],
      "text/plain": [
       "\n"
      ]
     },
     "metadata": {},
     "output_type": "display_data"
    },
    {
     "data": {
      "text/html": [
       "<pre style=\"white-space:pre;overflow-x:auto;line-height:normal;font-family:Menlo,'DejaVu Sans Mono',consolas,'Courier New',monospace\"><span style=\"color: #008080; text-decoration-color: #008080; font-weight: bold\">2024</span>-<span style=\"color: #008080; text-decoration-color: #008080; font-weight: bold\">05</span>-<span style=\"color: #008080; text-decoration-color: #008080; font-weight: bold\">23</span> <span style=\"color: #00ff00; text-decoration-color: #00ff00; font-weight: bold\">19:27:27</span>,<span style=\"color: #008080; text-decoration-color: #008080; font-weight: bold\">887</span> - <span style=\"font-weight: bold\">{</span>pytorch_tabular.tabular_model:<span style=\"color: #008080; text-decoration-color: #008080; font-weight: bold\">663</span><span style=\"font-weight: bold\">}</span> - INFO - Training the model completed                \n",
       "</pre>\n"
      ],
      "text/plain": [
       "\u001b[1;36m2024\u001b[0m-\u001b[1;36m05\u001b[0m-\u001b[1;36m23\u001b[0m \u001b[1;92m19:27:27\u001b[0m,\u001b[1;36m887\u001b[0m - \u001b[1m{\u001b[0mpytorch_tabular.tabular_model:\u001b[1;36m663\u001b[0m\u001b[1m}\u001b[0m - INFO - Training the model completed                \n"
      ]
     },
     "metadata": {},
     "output_type": "display_data"
    },
    {
     "data": {
      "text/html": [
       "<pre style=\"white-space:pre;overflow-x:auto;line-height:normal;font-family:Menlo,'DejaVu Sans Mono',consolas,'Courier New',monospace\"><span style=\"color: #008080; text-decoration-color: #008080; font-weight: bold\">2024</span>-<span style=\"color: #008080; text-decoration-color: #008080; font-weight: bold\">05</span>-<span style=\"color: #008080; text-decoration-color: #008080; font-weight: bold\">23</span> <span style=\"color: #00ff00; text-decoration-color: #00ff00; font-weight: bold\">19:27:27</span>,<span style=\"color: #008080; text-decoration-color: #008080; font-weight: bold\">890</span> - <span style=\"font-weight: bold\">{</span>pytorch_tabular.tabular_model:<span style=\"color: #008080; text-decoration-color: #008080; font-weight: bold\">1489</span><span style=\"font-weight: bold\">}</span> - INFO - Loading the best model                     \n",
       "</pre>\n"
      ],
      "text/plain": [
       "\u001b[1;36m2024\u001b[0m-\u001b[1;36m05\u001b[0m-\u001b[1;36m23\u001b[0m \u001b[1;92m19:27:27\u001b[0m,\u001b[1;36m890\u001b[0m - \u001b[1m{\u001b[0mpytorch_tabular.tabular_model:\u001b[1;36m1489\u001b[0m\u001b[1m}\u001b[0m - INFO - Loading the best model                     \n"
      ]
     },
     "metadata": {},
     "output_type": "display_data"
    },
    {
     "data": {
      "text/html": [
       "<pre style=\"white-space:pre;overflow-x:auto;line-height:normal;font-family:Menlo,'DejaVu Sans Mono',consolas,'Courier New',monospace\"><span style=\"color: #008080; text-decoration-color: #008080; font-weight: bold\">2024</span>-<span style=\"color: #008080; text-decoration-color: #008080; font-weight: bold\">05</span>-<span style=\"color: #008080; text-decoration-color: #008080; font-weight: bold\">23</span> <span style=\"color: #00ff00; text-decoration-color: #00ff00; font-weight: bold\">19:27:28</span>,<span style=\"color: #008080; text-decoration-color: #008080; font-weight: bold\">509</span> - <span style=\"font-weight: bold\">{</span>pytorch_tabular.tabular_model:<span style=\"color: #008080; text-decoration-color: #008080; font-weight: bold\">1533</span><span style=\"font-weight: bold\">}</span> - WARNING - Directory is not empty. Overwriting the \n",
       "contents.                                                                                                          \n",
       "</pre>\n"
      ],
      "text/plain": [
       "\u001b[1;36m2024\u001b[0m-\u001b[1;36m05\u001b[0m-\u001b[1;36m23\u001b[0m \u001b[1;92m19:27:28\u001b[0m,\u001b[1;36m509\u001b[0m - \u001b[1m{\u001b[0mpytorch_tabular.tabular_model:\u001b[1;36m1533\u001b[0m\u001b[1m}\u001b[0m - WARNING - Directory is not empty. Overwriting the \n",
       "contents.                                                                                                          \n"
      ]
     },
     "metadata": {},
     "output_type": "display_data"
    }
   ],
   "source": [
    "tabular_model.fit(train=train_df, validation=valid_df)\n",
    "\n",
    "tabular_model.save_model(\"model.pth\")  # 학습된 모델 저장"
   ]
  }
 ],
 "metadata": {
  "kernelspec": {
   "display_name": "tabulr_transformers-5PYuSfOC-py3.11",
   "language": "python",
   "name": "python3"
  },
  "language_info": {
   "codemirror_mode": {
    "name": "ipython",
    "version": 3
   },
   "file_extension": ".py",
   "mimetype": "text/x-python",
   "name": "python",
   "nbconvert_exporter": "python",
   "pygments_lexer": "ipython3",
   "version": "3.11.7"
  }
 },
 "nbformat": 4,
 "nbformat_minor": 2
}
